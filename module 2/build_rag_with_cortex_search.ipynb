{
 "metadata": {
  "kernelspec": {
   "display_name": "Streamlit Notebook",
   "name": "streamlit"
  }
 },
 "nbformat_minor": 5,
 "nbformat": 4,
 "cells": [
  {
   "cell_type": "markdown",
   "id": "3a4592fd-4b80-477a-a701-193c6c243b58",
   "metadata": {
    "name": "cell2",
    "collapsed": false,
    "resultHeight": 74
   },
   "source": "# Module 2: Build a RAG with Cortex Search"
  },
  {
   "cell_type": "markdown",
   "id": "0a1550b9-345a-4b6d-9ee2-0cf064464a53",
   "metadata": {
    "name": "cell3",
    "collapsed": false,
    "resultHeight": 60
   },
   "source": "## Create the database, tables and warehouse"
  },
  {
   "cell_type": "code",
   "id": "3775908f-ca36-4846-8f38-5adca39217f2",
   "metadata": {
    "language": "sql",
    "name": "cell1",
    "collapsed": false,
    "resultHeight": 112,
    "codeCollapsed": false
   },
   "source": "CREATE DATABASE IF NOT EXISTS cortex_search_tutorial_db;\n\nCREATE OR REPLACE WAREHOUSE cortex_search_tutorial_wh WITH\n     WAREHOUSE_SIZE='X-SMALL'\n     AUTO_SUSPEND = 120\n     AUTO_RESUME = TRUE\n     INITIALLY_SUSPENDED=TRUE;\n\n USE WAREHOUSE cortex_search_tutorial_wh;",
   "execution_count": null,
   "outputs": []
  },
  {
   "cell_type": "markdown",
   "id": "70e9ef02-2494-4b6b-b8ad-735ae46fbd05",
   "metadata": {
    "name": "cell4",
    "collapsed": false,
    "resultHeight": 124
   },
   "source": "Note:\n\nThe CREATE DATABASE statement creates a database. The database automatically includes a schema named PUBLIC.\n\nThe CREATE WAREHOUSE statement creates an initially suspended warehouse."
  },
  {
   "cell_type": "markdown",
   "id": "3caaed33-9e4f-4d6f-bfee-594856707302",
   "metadata": {
    "name": "cell34",
    "collapsed": false,
    "resultHeight": 278
   },
   "source": "## Get PDF data\n\nYou will use a sample dataset of the Federal Open Market Committee (FOMC) meeting minutes for this example. This is a sample of twelve 10-page documents with meeting notes from FOMC meetings from 2023 and 2024. Download the files directly from your browser by following this link:\n\n[FOMC minutes sample](https://drive.google.com/file/d/1C6TdVjy6d-GnasGO6ZrIEVJQRcedDQxG/view)\n\nThe complete set of FOMC minutes can be found at the [US Federal Reserve’s website](https://www.federalreserve.gov/monetarypolicy/fomccalendars.htm).\n\nNote: In a non-classroom setting, you would bring your own data, possibly already in a Snowflake stage."
  },
  {
   "cell_type": "markdown",
   "id": "d8014de4-0579-4afc-b9be-2dbd623d3d44",
   "metadata": {
    "name": "cell5",
    "collapsed": false,
    "resultHeight": 60
   },
   "source": "## Load data into Snowflake stage"
  },
  {
   "cell_type": "code",
   "id": "f0e8d596-146e-4a6f-8a7b-4187b05e39db",
   "metadata": {
    "language": "sql",
    "name": "cell6",
    "resultHeight": 112,
    "collapsed": false,
    "codeCollapsed": false
   },
   "outputs": [],
   "source": "CREATE OR REPLACE STAGE cortex_search_tutorial_db.public.fomc\n    DIRECTORY = (ENABLE = TRUE)\n    ENCRYPTION = (TYPE = 'SNOWFLAKE_SSE');",
   "execution_count": null
  },
  {
   "cell_type": "markdown",
   "id": "ebb1b9d5-d330-43df-ace2-7f9f8883a085",
   "metadata": {
    "name": "cell7",
    "collapsed": false,
    "resultHeight": 374
   },
   "source": "Now upload the dataset. You can upload the dataset in Snowsight or using SQL. To upload in Snowsight:\n\n1. Sign in to Snowsight.\n\n2. Select Data in the left-side navigation menu.\n\n3. Select your database cortex_search_tutorial_db.\n\n4. Select your schema public.\n\n5. Select Stages and select fomc.\n\n6. On the top right, Select the + Files button.\n\n7. Drag and drop files into the UI or select Browse to choose a file from the dialog window.\n\n8. Select Upload to upload your file."
  },
  {
   "cell_type": "markdown",
   "id": "1840b0d9-89a3-472f-aee5-92ae1717e231",
   "metadata": {
    "name": "cell8",
    "collapsed": false,
    "resultHeight": 60
   },
   "source": "## Verify the PDF Files are uploaded to stage"
  },
  {
   "cell_type": "code",
   "id": "05200458-f2cf-4934-888e-c2e36d84143a",
   "metadata": {
    "language": "python",
    "name": "cell10",
    "resultHeight": 112,
    "codeCollapsed": false,
    "collapsed": false
   },
   "outputs": [],
   "source": "from snowflake.snowpark.context import get_active_session\nsession = get_active_session()\n\npdf_rows = session.sql(\"LIST @cortex_search_tutorial_db.public.fomc PATTERN='.*\\\\.pdf'\").collect()\n\n# Extract just the base file names (no directory prefixes)\npdf_files = []\nfor r in pdf_rows:\n    # If the filename contains a '/', split and take the last part\n    # Otherwise, just use the filename as is\n    file_name = r.name.split('/')[-1]\n    pdf_files.append((file_name,))\n\n# Step 2: Convert the Python list into a Snowpark DataFrame\npdf_df = session.createDataFrame(pdf_files, schema=[\"file_name\"])\n\n# Optionally, create a temporary view so you can write SQL against it\npdf_df.create_or_replace_temp_view(\"PDF_FILES\")",
   "execution_count": null
  },
  {
   "cell_type": "code",
   "id": "ba8251cf-57ca-44c3-9e3e-a5a195b7334c",
   "metadata": {
    "language": "sql",
    "name": "cell12",
    "resultHeight": 439,
    "codeCollapsed": false,
    "collapsed": false
   },
   "outputs": [],
   "source": "WITH PDF_FILES_CTE AS (\n    SELECT file_name AS name \n    FROM PDF_FILES\n)\nSELECT * FROM PDF_FILES_CTE;",
   "execution_count": null
  },
  {
   "cell_type": "markdown",
   "id": "81011f41-48b1-4c38-8ed6-a5ee1f5d8289",
   "metadata": {
    "name": "cell11",
    "collapsed": false,
    "resultHeight": 60
   },
   "source": "## Parse PDF Files"
  },
  {
   "cell_type": "code",
   "id": "fec6c5a6-a1e7-4808-87c4-88878c2a43c0",
   "metadata": {
    "language": "sql",
    "name": "cell26",
    "resultHeight": 112,
    "collapsed": false
   },
   "outputs": [],
   "source": "CREATE TABLE IF NOT EXISTS CORTEX_SEARCH_TUTORIAL_DB.PUBLIC.CHUNKS_PARSE_DOC (\n   relative_path VARCHAR\n    , scoped_file_url VARCHAR\n    , document VARIANT\n    );",
   "execution_count": null
  },
  {
   "cell_type": "code",
   "id": "15a5e45e-3e52-4a4a-afe1-7546621f487e",
   "metadata": {
    "language": "sql",
    "name": "cell15",
    "resultHeight": 112,
    "codeCollapsed": false,
    "collapsed": false
   },
   "outputs": [],
   "source": "CREATE OR REPLACE TEMP VIEW PARSED_FOMC_DOCS AS \nSELECT file_name, \n    SNOWFLAKE.CORTEX.PARSE_DOCUMENT(\n                '@cortex_search_tutorial_db.public.fomc', \n                file_name, \n                OBJECT_CONSTRUCT('mode', 'ocr')\n        ) AS content\n    FROM PDF_FILES",
   "execution_count": null
  },
  {
   "cell_type": "code",
   "id": "175499b5-7c4a-4fa0-9182-ceeeb2ec5e2a",
   "metadata": {
    "language": "sql",
    "name": "cell18",
    "resultHeight": 147,
    "collapsed": false,
    "codeCollapsed": false
   },
   "outputs": [],
   "source": "SELECT * FROM PARSED_FOMC_DOCS LIMIT 2",
   "execution_count": null
  },
  {
   "cell_type": "markdown",
   "id": "2432741a-f082-4085-a15a-a67ebb6f0c05",
   "metadata": {
    "name": "cell13",
    "collapsed": false,
    "resultHeight": 102
   },
   "source": "## Chunk text\n\nFirst we need to transform the data to extract the content from the parsed JSON"
  },
  {
   "cell_type": "code",
   "id": "75aa003f-6c48-488b-bbc1-83ee0b9ddfe3",
   "metadata": {
    "language": "python",
    "name": "cell22",
    "resultHeight": 0,
    "codeCollapsed": false,
    "collapsed": false
   },
   "outputs": [],
   "source": "import json\n\ndf = session.table(\"PARSED_FOMC_DOCS\").to_pandas()\n\ndf['CONTENT'] = df['CONTENT'].apply(json.loads)  # converts JSON string to dict\ndf['CONTENT'] = df['CONTENT'].apply(lambda x: x[\"content\"])",
   "execution_count": null
  },
  {
   "cell_type": "code",
   "id": "115ef7e9-5c67-44db-8272-778b1b3d1ba4",
   "metadata": {
    "language": "python",
    "name": "cell23",
    "resultHeight": 439,
    "collapsed": false
   },
   "outputs": [],
   "source": "session.write_pandas(df, \"PARSED_FOMC_CONTENT\", database = \"CORTEX_SEARCH_TUTORIAL_DB\", schema = \"PUBLIC\", auto_create_table=True)",
   "execution_count": null
  },
  {
   "cell_type": "code",
   "id": "163c403c-2f43-4c6f-a135-94c89cf743af",
   "metadata": {
    "language": "sql",
    "name": "cell20",
    "resultHeight": 439,
    "collapsed": false
   },
   "outputs": [],
   "source": "SELECT * FROM CORTEX_SEARCH_TUTORIAL_DB.PUBLIC.PARSED_FOMC_CONTENT",
   "execution_count": null
  },
  {
   "cell_type": "code",
   "id": "1623a0ae-c5d7-478f-816b-624bf78eaab7",
   "metadata": {
    "language": "sql",
    "name": "cell27",
    "resultHeight": 112,
    "collapsed": false
   },
   "outputs": [],
   "source": "CREATE OR REPLACE TABLE CORTEX_SEARCH_TUTORIAL_DB.PUBLIC.CHUNKED_FOMC_DOCS (\n    file_name VARCHAR,\n    CHUNK VARCHAR\n);\n\nINSERT INTO CORTEX_SEARCH_TUTORIAL_DB.PUBLIC.CHUNKED_FOMC_DOCS (file_name, CHUNK)\nSELECT\n    file_name,\n    c.value AS CHUNK\nFROM\n    CORTEX_SEARCH_TUTORIAL_DB.PUBLIC.PARSED_FOMC_CONTENT,\n    LATERAL FLATTEN( input => SNOWFLAKE.CORTEX.SPLIT_TEXT_RECURSIVE_CHARACTER (\n        content,\n        'none',\n        1800,\n        250\n    )) c;",
   "execution_count": null
  },
  {
   "cell_type": "code",
   "id": "5b0d38e2-5f71-4c40-aaef-ef292dab8b93",
   "metadata": {
    "language": "sql",
    "name": "cell25",
    "resultHeight": 439,
    "codeCollapsed": false,
    "collapsed": false
   },
   "outputs": [],
   "source": "SELECT * FROM CORTEX_SEARCH_TUTORIAL_DB.PUBLIC.CHUNKED_FOMC_DOCS",
   "execution_count": null
  },
  {
   "cell_type": "markdown",
   "id": "2ecbdbcd-6a4a-49ae-920f-f60524a2354f",
   "metadata": {
    "name": "cell14",
    "collapsed": false,
    "resultHeight": 60
   },
   "source": "## Create Search Service"
  },
  {
   "cell_type": "code",
   "id": "b16b88ac-7fa2-408e-b7b4-44c2fe1539d1",
   "metadata": {
    "language": "sql",
    "name": "cell16",
    "resultHeight": 112,
    "collapsed": false
   },
   "outputs": [],
   "source": "CREATE OR REPLACE CORTEX SEARCH SERVICE CORTEX_SEARCH_TUTORIAL_DB.PUBLIC.FOMC_SEACH_SERVICE\n    ON chunk\n    WAREHOUSE = cortex_search_tutorial_wh\n    TARGET_LAG = '1 hour'\n    EMBEDDING_MODEL = 'snowflake-arctic-embed-l-v2.0'\n    AS (\n    SELECT\n        file_name,\n        chunk\n    FROM CORTEX_SEARCH_TUTORIAL_DB.PUBLIC.CHUNKED_FOMC_DOCS\n    );",
   "execution_count": null
  },
  {
   "cell_type": "markdown",
   "id": "25cc75d5-dd7f-4779-98a7-cc3013891ee8",
   "metadata": {
    "name": "cell31",
    "collapsed": false,
    "resultHeight": 60
   },
   "source": "## Use the Search Service"
  },
  {
   "cell_type": "code",
   "id": "b999eb72-2f6c-4e56-908b-048bb2110540",
   "metadata": {
    "language": "python",
    "name": "cell17",
    "resultHeight": 0,
    "codeCollapsed": false,
    "collapsed": false
   },
   "outputs": [],
   "source": "import os\nfrom snowflake.core import Root\nfrom typing import List\nfrom snowflake.snowpark.session import Session\n\nclass CortexSearchRetriever:\n\n    def __init__(self, snowpark_session: Session, limit_to_retrieve: int = 4):\n        self._snowpark_session = snowpark_session\n        self._limit_to_retrieve = limit_to_retrieve\n\n    def retrieve(self, query: str) -> List[str]:\n        root = Root(session)\n\n        search_service = (root\n          .databases[\"CORTEX_SEARCH_TUTORIAL_DB\"]\n          .schemas[\"PUBLIC\"]\n          .cortex_search_services[\"FOMC_SEACH_SERVICE\"]\n        )\n        resp = search_service.search(\n          query=\"gdp growth\",\n          columns=[\"chunk\"],\n          limit=self._limit_to_retrieve\n        )\n\n        if resp.results:\n            return [curr[\"chunk\"] for curr in resp.results]\n        else:\n            return []",
   "execution_count": null
  },
  {
   "cell_type": "code",
   "id": "ca2eb526-bba7-4226-a7c7-6534a489fd1d",
   "metadata": {
    "language": "python",
    "name": "cell21",
    "resultHeight": 1534,
    "codeCollapsed": false,
    "collapsed": false
   },
   "outputs": [],
   "source": "retriever = CortexSearchRetriever(snowpark_session=session, limit_to_retrieve=4)\n\nretrieved_context = retriever.retrieve(query=\"how was inflation expected to evolve in 2024?\")\n\nretrieved_context",
   "execution_count": null
  },
  {
   "cell_type": "markdown",
   "id": "58af19e4-9984-4cf6-94a4-7bd2496a0996",
   "metadata": {
    "name": "cell28",
    "collapsed": false,
    "resultHeight": 262
   },
   "source": "## Create a RAG\n\nNow that we have setup Cortex Search to be our retriever, we can add Cortex Complete for generation to build our RAG.\n\nWe'll also add TruLens instrumentation with the @instrument decorator to our app.\n\nThe first thing we need to do however, is to set the database connection to Snowflake where we'll log the traces and evaluation results from our application. This way we have a stored record that we can use to understand the app's performance."
  },
  {
   "cell_type": "code",
   "id": "3485c37b-377e-45b3-9fb1-d9220851d4cf",
   "metadata": {
    "language": "python",
    "name": "cell19",
    "resultHeight": 88
   },
   "outputs": [],
   "source": "from trulens.core import TruSession\nfrom trulens.connectors.snowflake import SnowflakeConnector\n\ntru_snowflake_connector = SnowflakeConnector(snowpark_session=session, init_server_side=True)\n\ntru_session = TruSession(connector=tru_snowflake_connector)",
   "execution_count": null
  },
  {
   "cell_type": "code",
   "id": "f6e31278-11c1-49e2-88a6-04eb58da532d",
   "metadata": {
    "language": "python",
    "name": "cell9",
    "codeCollapsed": false,
    "resultHeight": 0,
    "collapsed": false
   },
   "outputs": [],
   "source": "from snowflake.cortex import Complete\nfrom trulens.apps.custom import instrument\n\nclass RAG:\n\n    def __init__(self):\n        self.retriever = CortexSearchRetriever(snowpark_session=session, limit_to_retrieve=4)\n\n    @instrument\n    def retrieve_context(self, query: str) -> list:\n        \"\"\"\n        Retrieve relevant text from vector store.\n        \"\"\"\n        return self.retriever.retrieve(query)\n\n    @instrument\n    def generate_completion(self, query: str, context_str: list) -> str:\n        \"\"\"\n        Generate answer from context.\n        \"\"\"\n        prompt = f\"\"\"\n          You are an expert assistant extracting information from context provided.\n          Answer the question based on the context. Be concise and do not hallucinate.\n          If you don´t have the information just say so.\n          Context: {context_str}\n          Question:\n          {query}\n          Answer:\n        \"\"\"\n        return Complete(\"mistral-large2\", prompt)\n\n    def query(self, query: str) -> str:\n        context_str = self.retrieve_context(query)\n        return self.generate_completion(query, context_str)\n\n\nrag = RAG()",
   "execution_count": null
  },
  {
   "cell_type": "markdown",
   "id": "ab69ec2d-8eb4-4cc4-a5d7-242c0131f800",
   "metadata": {
    "name": "cell32",
    "collapsed": false,
    "resultHeight": 60
   },
   "source": "## Query the RAG"
  },
  {
   "cell_type": "code",
   "id": "ca894ee7-0e45-40e9-91fe-76626a8b02ab",
   "metadata": {
    "language": "python",
    "name": "cell30",
    "resultHeight": 54,
    "collapsed": false,
    "codeCollapsed": false
   },
   "outputs": [],
   "source": "rag.query(\"how was inflation expected to evolve in 2024?\")",
   "execution_count": null
  },
  {
   "cell_type": "markdown",
   "id": "58ff9ba6-eb2b-4343-ab9b-0f13cc8ef34a",
   "metadata": {
    "name": "cell33",
    "collapsed": false,
    "resultHeight": 60
   },
   "source": "## Create Evaluations"
  },
  {
   "cell_type": "code",
   "id": "7ff8b56f-815c-497f-ac8b-1180acf28dab",
   "metadata": {
    "language": "python",
    "name": "cell29",
    "codeCollapsed": false,
    "resultHeight": 155,
    "collapsed": false
   },
   "outputs": [],
   "source": "from trulens.providers.cortex.provider import Cortex\nfrom trulens.core.feedback.feedback import SnowflakeFeedback\nfrom trulens.core import Select\nimport numpy as np\n\nprovider = Cortex(session, \"mistral-large2\")\n\nf_groundedness = (\n    SnowflakeFeedback(provider.groundedness_measure_with_cot_reasons, name=\"Groundedness\")\n    .on(Select.RecordCalls.retrieve_context.rets[:].collect())\n    .on_output()\n)\n\nf_context_relevance = (\n    SnowflakeFeedback(provider.context_relevance, name=\"Context Relevance\")\n    .on_input()\n    .on(Select.RecordCalls.retrieve_context.rets[:])\n    .aggregate(np.mean)\n)\n\nf_answer_relevance = (\n    SnowflakeFeedback(provider.relevance, name=\"Answer Relevance\")\n    .on_input()\n    .on_output()\n    .aggregate(np.mean)\n)",
   "execution_count": null
  },
  {
   "cell_type": "code",
   "id": "5226476e-e829-4967-ad26-0cc303a59dcb",
   "metadata": {
    "language": "python",
    "name": "cell24",
    "codeCollapsed": false,
    "resultHeight": 0,
    "collapsed": false
   },
   "outputs": [],
   "source": "from trulens.apps.custom import TruCustomApp\nfrom trulens.core.schema.app import RecordIngestMode\n\ntru_rag = TruCustomApp(\n    rag,\n    app_name=\"FOMC RAG\",\n    app_version=\"simple\",\n    feedbacks=[f_groundedness, f_answer_relevance, f_context_relevance],\n    record_ingest_mode=RecordIngestMode.BUFFERED,\n)",
   "execution_count": null
  },
  {
   "cell_type": "code",
   "id": "5b7714ce-a937-4cf6-a0cb-859541a60948",
   "metadata": {
    "language": "python",
    "name": "cell35",
    "resultHeight": 0,
    "codeCollapsed": false,
    "collapsed": false
   },
   "outputs": [],
   "source": "with tru_rag as recording:\n    response = rag.query(\"how was inflation expected to evolve in 2024?\")\n    print(response)\n    response = rag.query(\"how do housing services contribute to inflation?\")\n    print(response)",
   "execution_count": null
  },
  {
   "cell_type": "code",
   "id": "98c2b70c-a8f8-4018-a89b-ec754ffbd114",
   "metadata": {
    "language": "python",
    "name": "cell37",
    "resultHeight": 0,
    "codeCollapsed": false,
    "collapsed": false
   },
   "outputs": [],
   "source": "tru_session.get_leaderboard()",
   "execution_count": null
  }
 ]
}