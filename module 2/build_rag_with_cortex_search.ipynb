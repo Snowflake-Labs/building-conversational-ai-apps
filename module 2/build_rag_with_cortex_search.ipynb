{
 "metadata": {
  "kernelspec": {
   "display_name": "Streamlit Notebook",
   "name": "streamlit"
  },
  "lastEditStatus": {
   "notebookId": "fgvirnmwtjwhcnsyxy7i",
   "authorId": "6400712903425",
   "authorName": "JREINI",
   "authorEmail": "josh.reini@snowflake.com",
   "sessionId": "8d51f2f6-423d-4ffd-bdf4-0dc19990dfce",
   "lastEditTime": 1738618407912
  }
 },
 "nbformat_minor": 5,
 "nbformat": 4,
 "cells": [
  {
   "cell_type": "markdown",
   "id": "3a4592fd-4b80-477a-a701-193c6c243b58",
   "metadata": {
    "name": "cell2",
    "collapsed": false,
    "resultHeight": 74
   },
   "source": "# Module 2: Build a RAG with Cortex Search"
  },
  {
   "cell_type": "markdown",
   "id": "0a1550b9-345a-4b6d-9ee2-0cf064464a53",
   "metadata": {
    "name": "cell3",
    "collapsed": false,
    "resultHeight": 60
   },
   "source": "## Create the database, tables and warehouse"
  },
  {
   "cell_type": "code",
   "id": "a3105267-f3f3-457e-ae9f-310469dd5c00",
   "metadata": {
    "language": "python",
    "name": "cell38",
    "resultHeight": 0,
    "collapsed": false
   },
   "outputs": [],
   "source": "from snowflake.snowpark.context import get_active_session\nsession = get_active_session()",
   "execution_count": null
  },
  {
   "cell_type": "code",
   "id": "3775908f-ca36-4846-8f38-5adca39217f2",
   "metadata": {
    "language": "sql",
    "name": "cell1",
    "collapsed": false,
    "resultHeight": 0,
    "codeCollapsed": false
   },
   "source": "CREATE DATABASE IF NOT EXISTS cortex_search_tutorial_db;\n\nCREATE OR REPLACE WAREHOUSE cortex_search_tutorial_wh WITH\n     WAREHOUSE_SIZE='X-SMALL'\n     AUTO_SUSPEND = 120\n     AUTO_RESUME = TRUE\n     INITIALLY_SUSPENDED=TRUE;\n\n USE WAREHOUSE cortex_search_tutorial_wh;",
   "execution_count": null,
   "outputs": []
  },
  {
   "cell_type": "markdown",
   "id": "70e9ef02-2494-4b6b-b8ad-735ae46fbd05",
   "metadata": {
    "name": "cell4",
    "collapsed": false,
    "resultHeight": 150
   },
   "source": "Note:\n\nThe CREATE DATABASE statement creates a database. The database automatically includes a schema named PUBLIC.\n\nThe CREATE WAREHOUSE statement creates an initially suspended warehouse."
  },
  {
   "cell_type": "markdown",
   "id": "3caaed33-9e4f-4d6f-bfee-594856707302",
   "metadata": {
    "name": "cell34",
    "collapsed": false,
    "resultHeight": 303
   },
   "source": "## Get PDF data\n\nYou will use a sample dataset of the Federal Open Market Committee (FOMC) meeting minutes for this example. This is a sample of twelve 10-page documents with meeting notes from FOMC meetings from 2023 and 2024. Download the files directly from your browser by following this link:\n\n[FOMC minutes sample](https://drive.google.com/file/d/1C6TdVjy6d-GnasGO6ZrIEVJQRcedDQxG/view)\n\nThe complete set of FOMC minutes can be found at the [US Federal Reserve’s website](https://www.federalreserve.gov/monetarypolicy/fomccalendars.htm).\n\nNote: In a non-classroom setting, you would bring your own data, possibly already in a Snowflake stage."
  },
  {
   "cell_type": "markdown",
   "id": "d8014de4-0579-4afc-b9be-2dbd623d3d44",
   "metadata": {
    "name": "cell5",
    "collapsed": false,
    "resultHeight": 60
   },
   "source": "## Load data into Snowflake stage"
  },
  {
   "cell_type": "code",
   "id": "f0e8d596-146e-4a6f-8a7b-4187b05e39db",
   "metadata": {
    "language": "sql",
    "name": "cell6",
    "resultHeight": 0,
    "collapsed": false,
    "codeCollapsed": false
   },
   "outputs": [],
   "source": "CREATE OR REPLACE STAGE cortex_search_tutorial_db.public.fomc\n    DIRECTORY = (ENABLE = TRUE)\n    ENCRYPTION = (TYPE = 'SNOWFLAKE_SSE');",
   "execution_count": null
  },
  {
   "cell_type": "markdown",
   "id": "ebb1b9d5-d330-43df-ace2-7f9f8883a085",
   "metadata": {
    "name": "cell7",
    "collapsed": false,
    "resultHeight": 374
   },
   "source": "Now upload the dataset. You can upload the dataset in Snowsight or using SQL. To upload in Snowsight:\n\n1. Sign in to Snowsight.\n\n2. Select Data in the left-side navigation menu.\n\n3. Select your database cortex_search_tutorial_db.\n\n4. Select your schema public.\n\n5. Select Stages and select fomc.\n\n6. On the top right, Select the + Files button.\n\n7. Drag and drop files into the UI or select Browse to choose a file from the dialog window.\n\n8. Select Upload to upload your file."
  },
  {
   "cell_type": "markdown",
   "id": "1840b0d9-89a3-472f-aee5-92ae1717e231",
   "metadata": {
    "name": "cell8",
    "collapsed": false,
    "resultHeight": 60
   },
   "source": "## Verify the PDF Files are uploaded to stage"
  },
  {
   "cell_type": "code",
   "id": "a7f0aeb5-1683-47e0-a5a1-f253a0ee69e6",
   "metadata": {
    "language": "sql",
    "name": "cell36",
    "collapsed": false
   },
   "outputs": [],
   "source": "ls @cortex_search_tutorial_db.public.fomc",
   "execution_count": null
  },
  {
   "cell_type": "markdown",
   "id": "81011f41-48b1-4c38-8ed6-a5ee1f5d8289",
   "metadata": {
    "name": "cell11",
    "collapsed": false,
    "resultHeight": 60
   },
   "source": "## Parse PDF Files"
  },
  {
   "cell_type": "code",
   "id": "d7d08d4e-c732-48e9-b526-e3bc848f10d9",
   "metadata": {
    "language": "sql",
    "name": "cell10",
    "collapsed": false,
    "codeCollapsed": false
   },
   "outputs": [],
   "source": "CREATE OR REPLACE VIEW PARSED_FOMC_DOCS AS SELECT \n      relative_path,\n      TO_VARCHAR(\n        SNOWFLAKE.CORTEX.PARSE_DOCUMENT(\n          @cortex_search_tutorial_db.public.fomc, \n          relative_path, \n          {'mode': 'LAYOUT'}\n        ) :content\n      ) AS parsed_text\n    FROM directory(@cortex_search_tutorial_db.public.fomc)\n    WHERE relative_path LIKE '%.pdf'",
   "execution_count": null
  },
  {
   "cell_type": "code",
   "id": "5748401d-8846-408f-b35c-c9cdb58bcd1b",
   "metadata": {
    "language": "sql",
    "name": "cell12"
   },
   "outputs": [],
   "source": "SELECT * FROM PARSED_FOMC_DOCS LIMIT 2",
   "execution_count": null
  },
  {
   "cell_type": "markdown",
   "id": "2432741a-f082-4085-a15a-a67ebb6f0c05",
   "metadata": {
    "name": "cell13",
    "collapsed": false,
    "resultHeight": 102
   },
   "source": "## Chunk text"
  },
  {
   "cell_type": "code",
   "id": "63fca862-936f-489c-be8b-3e71410914d2",
   "metadata": {
    "language": "sql",
    "name": "cell15",
    "codeCollapsed": false,
    "collapsed": false
   },
   "outputs": [],
   "source": "CREATE OR REPLACE TABLE CORTEX_SEARCH_TUTORIAL_DB.PUBLIC.CHUNKED_FOMC_DOCS (\n    file_name VARCHAR,\n    CHUNK VARCHAR\n);\n\nINSERT INTO CORTEX_SEARCH_TUTORIAL_DB.PUBLIC.CHUNKED_FOMC_DOCS (file_name, CHUNK)\nSELECT\n    file_name,\n    c.value AS CHUNK\nFROM\n    CORTEX_SEARCH_TUTORIAL_DB.PUBLIC.PARSED_FOMC_CONTENT,\n    LATERAL FLATTEN( input => SNOWFLAKE.CORTEX.SPLIT_TEXT_RECURSIVE_CHARACTER (\n        content,\n        'markdown',\n        1800,\n        250\n    )) c;",
   "execution_count": null
  },
  {
   "cell_type": "code",
   "id": "175499b5-7c4a-4fa0-9182-ceeeb2ec5e2a",
   "metadata": {
    "language": "sql",
    "name": "cell18",
    "resultHeight": 0,
    "collapsed": false,
    "codeCollapsed": false
   },
   "outputs": [],
   "source": "SELECT * FROM CHUNKED_FOMC_DOCS LIMIT 2",
   "execution_count": null
  },
  {
   "cell_type": "markdown",
   "id": "2ecbdbcd-6a4a-49ae-920f-f60524a2354f",
   "metadata": {
    "name": "cell14",
    "collapsed": false,
    "resultHeight": 60
   },
   "source": "## Create Search Service"
  },
  {
   "cell_type": "code",
   "id": "b16b88ac-7fa2-408e-b7b4-44c2fe1539d1",
   "metadata": {
    "language": "sql",
    "name": "cell16",
    "resultHeight": 0,
    "collapsed": false
   },
   "outputs": [],
   "source": "CREATE OR REPLACE CORTEX SEARCH SERVICE CORTEX_SEARCH_TUTORIAL_DB.PUBLIC.FOMC_SEACH_SERVICE\n    ON chunk\n    WAREHOUSE = cortex_search_tutorial_wh\n    TARGET_LAG = '1 hour'\n    EMBEDDING_MODEL = 'snowflake-arctic-embed-l-v2.0'\n    AS (\n    SELECT\n        file_name,\n        chunk\n    FROM CORTEX_SEARCH_TUTORIAL_DB.PUBLIC.CHUNKED_FOMC_DOCS\n    );",
   "execution_count": null
  },
  {
   "cell_type": "markdown",
   "id": "25cc75d5-dd7f-4779-98a7-cc3013891ee8",
   "metadata": {
    "name": "cell31",
    "collapsed": false,
    "resultHeight": 60
   },
   "source": "## Use the Search Service"
  },
  {
   "cell_type": "code",
   "id": "b999eb72-2f6c-4e56-908b-048bb2110540",
   "metadata": {
    "language": "python",
    "name": "cell17",
    "resultHeight": 0,
    "codeCollapsed": false,
    "collapsed": false
   },
   "outputs": [],
   "source": "import os\nfrom snowflake.core import Root\nfrom typing import List\nfrom snowflake.snowpark.session import Session\n\nclass CortexSearchRetriever:\n\n    def __init__(self, snowpark_session: Session, limit_to_retrieve: int = 4):\n        self._snowpark_session = snowpark_session\n        self._limit_to_retrieve = limit_to_retrieve\n\n    def retrieve(self, query: str) -> List[str]:\n        root = Root(session)\n\n        search_service = (root\n          .databases[\"CORTEX_SEARCH_TUTORIAL_DB\"]\n          .schemas[\"PUBLIC\"]\n          .cortex_search_services[\"FOMC_SEACH_SERVICE\"]\n        )\n        resp = search_service.search(\n          query=\"gdp growth\",\n          columns=[\"chunk\"],\n          limit=self._limit_to_retrieve\n        )\n\n        if resp.results:\n            return [curr[\"chunk\"] for curr in resp.results]\n        else:\n            return []",
   "execution_count": null
  },
  {
   "cell_type": "code",
   "id": "ca2eb526-bba7-4226-a7c7-6534a489fd1d",
   "metadata": {
    "language": "python",
    "name": "cell21",
    "resultHeight": 1534,
    "codeCollapsed": false,
    "collapsed": false
   },
   "outputs": [],
   "source": "retriever = CortexSearchRetriever(snowpark_session=session, limit_to_retrieve=4)\n\nretrieved_context = retriever.retrieve(query=\"how was inflation expected to evolve in 2024?\")\n\nretrieved_context",
   "execution_count": null
  },
  {
   "cell_type": "markdown",
   "id": "58af19e4-9984-4cf6-94a4-7bd2496a0996",
   "metadata": {
    "name": "cell28",
    "collapsed": false,
    "resultHeight": 262
   },
   "source": "## Create a RAG\n\nNow that we have setup Cortex Search to be our retriever, we can add Cortex Complete for generation to build our RAG.\n\nWe'll also add TruLens instrumentation with the @instrument decorator to our app.\n\nThe first thing we need to do however, is to set the database connection to Snowflake where we'll log the traces and evaluation results from our application. This way we have a stored record that we can use to understand the app's performance."
  },
  {
   "cell_type": "code",
   "id": "3485c37b-377e-45b3-9fb1-d9220851d4cf",
   "metadata": {
    "language": "python",
    "name": "cell19",
    "resultHeight": 232,
    "codeCollapsed": false,
    "collapsed": false
   },
   "outputs": [],
   "source": "from trulens.core import TruSession\nfrom trulens.connectors.snowflake import SnowflakeConnector\n\ntru_snowflake_connector = SnowflakeConnector(snowpark_session=session, init_server_side=True)\n\ntru_session = TruSession(connector=tru_snowflake_connector)",
   "execution_count": null
  },
  {
   "cell_type": "code",
   "id": "f6e31278-11c1-49e2-88a6-04eb58da532d",
   "metadata": {
    "language": "python",
    "name": "cell9",
    "codeCollapsed": false,
    "resultHeight": 0,
    "collapsed": false
   },
   "outputs": [],
   "source": "from snowflake.cortex import Complete\nfrom trulens.apps.custom import instrument\nimport time\n\nclass RAG:\n\n    def __init__(self):\n        self.retriever = CortexSearchRetriever(snowpark_session=session, limit_to_retrieve=4)\n\n    @instrument\n    def retrieve_context(self, query: str) -> list:\n        \"\"\"\n        Retrieve relevant text from vector store.\n        \"\"\"\n        return self.retriever.retrieve(query)\n\n    @instrument\n    def generate_completion(self, query: str, context_str: list) -> str:\n        \"\"\"\n        Generate answer from context.\n        \"\"\"\n        prompt = f\"\"\"\n          You are an expert assistant extracting information from context provided.\n          Answer the question in long-form, fully and completely, based on the context. Do not hallucinate.\n          If you don´t have the information just say so.\n          Context: {context_str}\n          Question:\n          {query}\n          Answer:\n        \"\"\"\n        response = \"\"\n        stream = Complete(\"mistral-large2\", prompt, stream = True)\n        for update in stream:    \n          response += update\n          time.sleep(0.02)\n          print(update, end = '')\n        return response\n        \n    def query(self, query: str) -> str:\n        context_str = self.retrieve_context(query)\n        return self.generate_completion(query, context_str)\n\n\nrag = RAG()",
   "execution_count": null
  },
  {
   "cell_type": "markdown",
   "id": "ab69ec2d-8eb4-4cc4-a5d7-242c0131f800",
   "metadata": {
    "name": "cell32",
    "collapsed": false,
    "resultHeight": 60
   },
   "source": "## Query the RAG"
  },
  {
   "cell_type": "code",
   "id": "ca894ee7-0e45-40e9-91fe-76626a8b02ab",
   "metadata": {
    "language": "python",
    "name": "cell30",
    "resultHeight": 111,
    "collapsed": false,
    "codeCollapsed": false
   },
   "outputs": [],
   "source": "response = rag.query(\"What were the strongest components to gdp growth in q4?\")",
   "execution_count": null
  },
  {
   "cell_type": "markdown",
   "id": "58ff9ba6-eb2b-4343-ab9b-0f13cc8ef34a",
   "metadata": {
    "name": "cell33",
    "collapsed": false,
    "resultHeight": 60
   },
   "source": "## Create Evaluations"
  },
  {
   "cell_type": "code",
   "id": "7ff8b56f-815c-497f-ac8b-1180acf28dab",
   "metadata": {
    "language": "python",
    "name": "cell29",
    "codeCollapsed": false,
    "resultHeight": 155,
    "collapsed": false
   },
   "outputs": [],
   "source": "from trulens.providers.cortex.provider import Cortex\nfrom trulens.core.feedback.feedback import SnowflakeFeedback\nfrom trulens.core import Select\nimport numpy as np\n\nprovider = Cortex(session, \"mistral-large2\")\n\nf_groundedness = (\n    SnowflakeFeedback(provider.groundedness_measure_with_cot_reasons, name=\"Groundedness\")\n    .on(Select.RecordCalls.retrieve_context.rets[:].collect())\n    .on_output()\n)\n\nf_context_relevance = (\n    SnowflakeFeedback(provider.context_relevance, name=\"Context Relevance\")\n    .on_input()\n    .on(Select.RecordCalls.retrieve_context.rets[:])\n    .aggregate(np.mean)\n)\n\nf_answer_relevance = (\n    SnowflakeFeedback(provider.relevance, name=\"Answer Relevance\")\n    .on_input()\n    .on_output()\n    .aggregate(np.mean)\n)",
   "execution_count": null
  },
  {
   "cell_type": "markdown",
   "id": "3307e02e-0a1f-4800-bb28-74e5910c6e31",
   "metadata": {
    "name": "cell23",
    "collapsed": false
   },
   "source": "## Register the App"
  },
  {
   "cell_type": "code",
   "id": "5226476e-e829-4967-ad26-0cc303a59dcb",
   "metadata": {
    "language": "python",
    "name": "cell24",
    "codeCollapsed": false,
    "resultHeight": 0,
    "collapsed": false
   },
   "outputs": [],
   "source": "from trulens.apps.custom import TruCustomApp\nfrom trulens.core.schema.app import RecordIngestMode\n\ntru_rag = TruCustomApp(\n    rag,\n    app_name=\"FOMC RAG\",\n    app_version=\"simple\",\n    feedbacks=[f_groundedness, f_answer_relevance, f_context_relevance],\n    record_ingest_mode=RecordIngestMode.BUFFERED,\n)",
   "execution_count": null
  },
  {
   "cell_type": "markdown",
   "id": "3684d070-4f1f-4ea9-9746-d4ac8c6b579c",
   "metadata": {
    "name": "cell25",
    "collapsed": false
   },
   "source": "## Run the App with AI Observability"
  },
  {
   "cell_type": "code",
   "id": "f6eb7c27-d8a8-4410-89e3-e156345b5950",
   "metadata": {
    "language": "python",
    "name": "cell35",
    "resultHeight": 38,
    "collapsed": false,
    "codeCollapsed": false
   },
   "outputs": [],
   "source": "with tru_rag as recording:\n    response = rag.query(\"how was inflation expected to evolve in 2024?\")\n    print(response)",
   "execution_count": null
  },
  {
   "cell_type": "code",
   "id": "55ac3178-f945-4f91-9d6c-18efa1e8765f",
   "metadata": {
    "language": "python",
    "name": "cell44"
   },
   "outputs": [],
   "source": "with tru_rag as recording:\n    response = rag.query(\"What is the target range for the federal funds rate as of jan 2025?\")\n    print(response)",
   "execution_count": null
  },
  {
   "cell_type": "markdown",
   "id": "b1db8b38-2e1d-4054-9fc5-833da59f7aac",
   "metadata": {
    "name": "cell20",
    "collapsed": false
   },
   "source": "## Navigate to AI > Applications to view AI Observability\n\nYou may notice that there is low context relevance and groundedness scores for the second query regarding the federal funds rate.\n\nThis is a common symptom of an out-of-date knowledge base, where the user has asked a question of knowledge that our search service doesn't yet know about."
  },
  {
   "cell_type": "markdown",
   "id": "394edfd7-b9ac-40ac-a28b-6bbbfbff95bf",
   "metadata": {
    "name": "cell27",
    "collapsed": false
   },
   "source": "## Automatic Processing of New Documents\n\nWe can use Snowflake features Streams and Task to automatically process new PDF files as they are added into Snowflake.\n\nThe tasks and streams will utilize the same parsing and chunking queries we built earlier in the notebook."
  },
  {
   "cell_type": "code",
   "id": "50422349-5880-4ab7-a9b6-2f358b32de7b",
   "metadata": {
    "language": "sql",
    "name": "cell37",
    "collapsed": false,
    "codeCollapsed": false
   },
   "outputs": [],
   "source": "-- Create or replace stream to capture new documents\ncreate or replace stream fomc_docs_stream on stage cortex_search_tutorial_db.public.fomc;\n\n-- Create or replace task to parse and insert parsed and chunked documents\ncreate or replace task fomc_parse_and_insert_pdf_task \n    warehouse = cortex_search_tutorial_wh\n    schedule = '1 minute'\n    when system$stream_has_data('fomc_docs_stream')\n    as\n    -- Insert parsed chunks into docs_chunks_table\n    insert into docs_chunks_table (relative_path, size, file_url, scoped_file_url, chunk)\n    select \n        relative_path, \n        size,\n        file_url, \n        build_scoped_file_url(@cortex_search_tutorial_db.public.fomc, relative_path) as scoped_file_url,\n        chunked_fomc_docs.CHUNK as chunk\n    from \n        docs_stream\n    join\n        -- Use the PARSED_FOMC_DOCS view to parse the documents\n        (select relative_path,\n                TO_VARCHAR(\n                    SNOWFLAKE.CORTEX.PARSE_DOCUMENT(\n                        @cortex_search_tutorial_db.public.fomc, \n                        relative_path, \n                        {'mode': 'LAYOUT'}\n                    ) :content\n                ) as parsed_text\n        from directory(@cortex_search_tutorial_db.public.fomc)\n        where relative_path LIKE '%.pdf') as parsed_docs\n    -- Join with chunked documents\n    join\n        CORTEX_SEARCH_TUTORIAL_DB.PUBLIC.CHUNKED_FOMC_DOCS chunked_fomc_docs\n    on parsed_docs.relative_path = chunked_fomc_docs.file_name\n    and chunked_fomc_docs.CHUNK = \n        SNOWFLAKE.CORTEX.SPLIT_TEXT_RECURSIVE_CHARACTER(\n            parsed_docs.parsed_text,\n            'markdown',\n            1800,\n            250\n        );\n",
   "execution_count": null
  },
  {
   "cell_type": "code",
   "id": "4439ec35-1231-4f6e-bf59-6662916513f7",
   "metadata": {
    "language": "sql",
    "name": "cell26",
    "codeCollapsed": false,
    "collapsed": false
   },
   "outputs": [],
   "source": "-- Alter task to resume it after creation\nalter task fomc_parse_and_insert_pdf_task resume;",
   "execution_count": null
  },
  {
   "cell_type": "markdown",
   "id": "d968305c-365b-466b-ae9c-2eabb6e1572d",
   "metadata": {
    "name": "cell40",
    "collapsed": false
   },
   "source": "Now, go upload a new set of minutes from the FOMC website. If we execute the below query while the stream is processing, we can view it."
  },
  {
   "cell_type": "code",
   "id": "4eaba7c7-a8ba-4721-9bea-119d0fa963a2",
   "metadata": {
    "language": "sql",
    "name": "cell39",
    "collapsed": false,
    "codeCollapsed": false
   },
   "outputs": [],
   "source": "select * from fomc_docs_stream;",
   "execution_count": null
  },
  {
   "cell_type": "markdown",
   "id": "d569572a-e184-4b7b-b890-8a63f8ad6350",
   "metadata": {
    "name": "cell46",
    "collapsed": false
   },
   "source": "Let's alter the cortex search service target lag so we can more quickly update based on our new data."
  },
  {
   "cell_type": "code",
   "id": "54834611-5f01-420a-97ba-51aceea7dc59",
   "metadata": {
    "language": "sql",
    "name": "cell45",
    "codeCollapsed": false,
    "collapsed": false
   },
   "outputs": [],
   "source": "ALTER CORTEX SEARCH SERVICE CORTEX_SEARCH_TUTORIAL_DB.PUBLIC.FOMC_SEACH_SERVICE SET TARGET_LAG = '1 minute'",
   "execution_count": null
  },
  {
   "cell_type": "markdown",
   "id": "fd1e711b-bfd5-487c-97f5-312be7110ff7",
   "metadata": {
    "name": "cell41",
    "collapsed": false
   },
   "source": "It will return no value once the doc has been processed. Once the document is avilable in the docs_chunks_table, the Snowflake Cortex Search service will automaticaly index it according to the TARGET_LAG that was specified when the serrvice was created.\n\nOnce you have finish testing uploading new documents and asking questions, you may want to suspend the task:"
  },
  {
   "cell_type": "code",
   "id": "c6604ae3-a6ed-483a-9e95-5215c49e19ce",
   "metadata": {
    "language": "python",
    "name": "cell42",
    "collapsed": false
   },
   "outputs": [],
   "source": "with tru_rag as recording:\n    response = rag.query(\"What is the target range for the federal funds rate as of jan 2025?\")\n    print(response)",
   "execution_count": null
  },
  {
   "cell_type": "code",
   "id": "f3c4b6d0-1a6a-43fd-83d2-c2a8b61097f9",
   "metadata": {
    "language": "sql",
    "name": "cell22",
    "collapsed": false,
    "codeCollapsed": false
   },
   "outputs": [],
   "source": "alter task fomc_parse_and_insert_pdf_task suspend;",
   "execution_count": null
  }
 ]
}