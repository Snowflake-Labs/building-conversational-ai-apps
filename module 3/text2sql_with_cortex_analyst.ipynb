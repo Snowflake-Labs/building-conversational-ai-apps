{
 "cells": [
  {
   "cell_type": "markdown",
   "id": "a6688ba9-a559-40ea-b801-c06e44499a1f",
   "metadata": {
    "collapsed": false,
    "name": "cell7"
   },
   "source": []
  },
  {
   "cell_type": "markdown",
   "id": "811e308b-0ee7-42d4-bd64-cb046f9e1d1c",
   "metadata": {
    "collapsed": false,
    "name": "cell8"
   },
   "source": [
    "# Build Text to SQL applications to ask questions of your structured data with Cortex Analyst\n",
    "\n",
    "In this notebook we show how to build a text-to-sql app using Cortex Analyst."
   ]
  },
  {
   "cell_type": "markdown",
   "id": "77632784-4619-40fd-915d-0347b105a4cf",
   "metadata": {
    "collapsed": false,
    "name": "cell31"
   },
   "source": [
    "That was an easy question and we wanted to use just one table, and we still struggled to quickly come up with the needed context and prompt engineering to generate useful SQL with a SOTA LLM. Now imagine harder questions, hundreds of tables, and the need to perform complicated JOINS.\n",
    "\n",
    "Enter: Cortex Analyst"
   ]
  },
  {
   "cell_type": "markdown",
   "id": "a09186b0-9760-4da2-b69d-cedbe4fa514b",
   "metadata": {
    "collapsed": false,
    "name": "cell9"
   },
   "source": [
    "## Create the required roles to use Cortex Analyst\n",
    "\n",
    "Make sure to add your username in Line 10!"
   ]
  },
  {
   "cell_type": "code",
   "execution_count": null,
   "id": "3775908f-ca36-4846-8f38-5adca39217f2",
   "metadata": {
    "codeCollapsed": false,
    "collapsed": false,
    "language": "sql",
    "name": "cell1"
   },
   "outputs": [],
   "source": [
    "USE WAREHOUSE S;\n",
    "\n",
    "USE ROLE SECURITYADMIN;\n",
    "\n",
    "CREATE OR REPLACE ROLE cortex_user_role;\n",
    "GRANT DATABASE ROLE SNOWFLAKE.CORTEX_USER TO ROLE cortex_user_role;\n",
    "\n",
    "USE ROLE SECURITYADMIN;\n",
    "\n",
    "GRANT ROLE cortex_user_role TO USER <user>;"
   ]
  },
  {
   "cell_type": "markdown",
   "id": "2142e1fc-9fe9-4d70-bad2-9f5dd5ec76e1",
   "metadata": {
    "collapsed": false,
    "name": "cell4"
   },
   "source": [
    "## Create the required databases, schemas and warehouse for this example"
   ]
  },
  {
   "cell_type": "code",
   "execution_count": null,
   "id": "4bb4abc2-9feb-4c23-adf8-ccd04883fa82",
   "metadata": {
    "codeCollapsed": false,
    "language": "sql",
    "name": "cell6"
   },
   "outputs": [],
   "source": [
    "USE ROLE ACCOUNTADMIN;\n",
    "\n",
    "-- Create demo database\n",
    "CREATE OR REPLACE DATABASE cortex_analyst_demo;\n",
    "\n",
    "-- Create schema\n",
    "CREATE OR REPLACE SCHEMA cortex_analyst_demo.revenue_timeseries;\n",
    "\n",
    "-- Create warehouse\n",
    "CREATE OR REPLACE WAREHOUSE cortex_analyst_wh\n",
    "    WAREHOUSE_SIZE = 'large'\n",
    "    WAREHOUSE_TYPE = 'standard'\n",
    "    AUTO_SUSPEND = 60\n",
    "    AUTO_RESUME = TRUE\n",
    "    INITIALLY_SUSPENDED = TRUE\n",
    "COMMENT = 'Warehouse for Cortex Analyst demo';\n",
    "\n",
    "GRANT USAGE ON WAREHOUSE cortex_analyst_wh TO ROLE cortex_user_role;\n",
    "GRANT OPERATE ON WAREHOUSE cortex_analyst_wh TO ROLE cortex_user_role;\n",
    "\n",
    "GRANT OWNERSHIP ON SCHEMA cortex_analyst_demo.revenue_timeseries TO ROLE cortex_user_role;\n",
    "GRANT OWNERSHIP ON DATABASE cortex_analyst_demo TO ROLE cortex_user_role;\n",
    "\n",
    "USE ROLE cortex_user_role;\n",
    "\n",
    "-- Use the created warehouse\n",
    "USE WAREHOUSE cortex_analyst_wh;\n",
    "\n",
    "USE DATABASE cortex_analyst_demo;\n",
    "USE SCHEMA cortex_analyst_demo.revenue_timeseries;\n",
    "\n",
    "-- Create stage for raw data\n",
    "CREATE OR REPLACE STAGE raw_data DIRECTORY = (ENABLE = TRUE);\n",
    "\n",
    "/*--\n",
    "• Fact and Dimension Table Creation\n",
    "--*/\n",
    "\n",
    "-- Fact table: daily_revenue\n",
    "CREATE OR REPLACE TABLE cortex_analyst_demo.revenue_timeseries.daily_revenue (\n",
    "    date DATE,\n",
    "    revenue FLOAT,\n",
    "    cogs FLOAT,\n",
    "    forecasted_revenue FLOAT,\n",
    "    product_id INT,\n",
    "    region_id INT\n",
    ");\n",
    "\n",
    "-- Dimension table: product_dim\n",
    "CREATE OR REPLACE TABLE cortex_analyst_demo.revenue_timeseries.product_dim (\n",
    "    product_id INT,\n",
    "    product_line VARCHAR(16777216)\n",
    ");\n",
    "\n",
    "-- Dimension table: region_dim\n",
    "CREATE OR REPLACE TABLE cortex_analyst_demo.revenue_timeseries.region_dim (\n",
    "    region_id INT,\n",
    "    sales_region VARCHAR(16777216),\n",
    "    state VARCHAR(16777216)\n",
    ");"
   ]
  },
  {
   "cell_type": "markdown",
   "id": "ef609d1e-66b4-41c9-bf5f-6b18abb17f41",
   "metadata": {
    "collapsed": false,
    "name": "cell2"
   },
   "source": [
    "There are three data files and one YAML file included in the this repository.\n",
    "\n",
    "daily_revenue.csv\n",
    "region.csv\n",
    "product.csv\n",
    "revenue_timeseries.yaml\n",
    "You will now upload these files to your Snowflake account and ingest the data files into the tables created in the previous step.\n",
    "\n",
    "To upload the data files:\n",
    "\n",
    "1. Set your role to Cortex User Role\n",
    "2. Navigate to the Data tab in Snowsight, and select Add Data\n",
    "3. On the Add Data page, select Load files into a stage\n",
    "4. Select the four files that you want to upload (listed above)\n",
    "5. Select CORTEX_ANALYST_DEMO as Database, REVENUE_TIMESERIES as Schema, and RAW_DATA as Stage\n",
    "6. Click Upload\n",
    "\n",
    "Let's go check that the files were successfully uploaded to the stage. In the Snowsight UI:\n",
    "\n",
    "7. Select Data » Databases\n",
    "8. Select the CORTEX_ANALYST_DEMO database and REVENUE_TIMESERIES Schema that contain the stage\n",
    "9. Select Stages and select the RAW_DATA stage\n",
    "10. If prompted, select Enable Directory Table and the CORTEX_ANALYST_WH to refresh the directory table\n",
    "\n",
    "You should see the four files listed in the stage."
   ]
  },
  {
   "cell_type": "markdown",
   "id": "1cb88089-b92d-4176-93ca-5d53b8673896",
   "metadata": {
    "collapsed": false,
    "name": "cell5"
   },
   "source": [
    "## Copy data from stage into tables"
   ]
  },
  {
   "cell_type": "code",
   "execution_count": null,
   "id": "35b3572a-da63-4f67-a889-536bdb71086f",
   "metadata": {
    "codeCollapsed": false,
    "collapsed": false,
    "language": "sql",
    "name": "cell3"
   },
   "outputs": [],
   "source": [
    "/*--\n",
    "• looad data into tables\n",
    "--*/\n",
    "\n",
    "USE ROLE CORTEX_USER_ROLE;\n",
    "USE DATABASE CORTEX_ANALYST_DEMO;\n",
    "USE SCHEMA CORTEX_ANALYST_DEMO.REVENUE_TIMESERIES;\n",
    "USE WAREHOUSE CORTEX_ANALYST_WH;\n",
    "\n",
    "COPY INTO CORTEX_ANALYST_DEMO.REVENUE_TIMESERIES.DAILY_REVENUE\n",
    "FROM @raw_data\n",
    "FILES = ('daily_revenue.csv')\n",
    "FILE_FORMAT = (\n",
    "    TYPE=CSV,\n",
    "    SKIP_HEADER=1,\n",
    "    FIELD_DELIMITER=',',\n",
    "    TRIM_SPACE=FALSE,\n",
    "    FIELD_OPTIONALLY_ENCLOSED_BY=NONE,\n",
    "    REPLACE_INVALID_CHARACTERS=TRUE,\n",
    "    DATE_FORMAT=AUTO,\n",
    "    TIME_FORMAT=AUTO,\n",
    "    TIMESTAMP_FORMAT=AUTO\n",
    "    EMPTY_FIELD_AS_NULL = FALSE\n",
    "    error_on_column_count_mismatch=false\n",
    ")\n",
    "\n",
    "ON_ERROR=CONTINUE\n",
    "FORCE = TRUE ;\n",
    "\n",
    "\n",
    "\n",
    "COPY INTO CORTEX_ANALYST_DEMO.REVENUE_TIMESERIES.PRODUCT_DIM\n",
    "FROM @raw_data\n",
    "FILES = ('product.csv')\n",
    "FILE_FORMAT = (\n",
    "    TYPE=CSV,\n",
    "    SKIP_HEADER=1,\n",
    "    FIELD_DELIMITER=',',\n",
    "    TRIM_SPACE=FALSE,\n",
    "    FIELD_OPTIONALLY_ENCLOSED_BY=NONE,\n",
    "    REPLACE_INVALID_CHARACTERS=TRUE,\n",
    "    DATE_FORMAT=AUTO,\n",
    "    TIME_FORMAT=AUTO,\n",
    "    TIMESTAMP_FORMAT=AUTO\n",
    "    EMPTY_FIELD_AS_NULL = FALSE\n",
    "    error_on_column_count_mismatch=false\n",
    ")\n",
    "\n",
    "ON_ERROR=CONTINUE\n",
    "FORCE = TRUE ;\n",
    "\n",
    "\n",
    "\n",
    "COPY INTO CORTEX_ANALYST_DEMO.REVENUE_TIMESERIES.REGION_DIM\n",
    "FROM @raw_data\n",
    "FILES = ('region.csv')\n",
    "FILE_FORMAT = (\n",
    "    TYPE=CSV,\n",
    "    SKIP_HEADER=1,\n",
    "    FIELD_DELIMITER=',',\n",
    "    TRIM_SPACE=FALSE,\n",
    "    FIELD_OPTIONALLY_ENCLOSED_BY=NONE,\n",
    "    REPLACE_INVALID_CHARACTERS=TRUE,\n",
    "    DATE_FORMAT=AUTO,\n",
    "    TIME_FORMAT=AUTO,\n",
    "    TIMESTAMP_FORMAT=AUTO\n",
    "    EMPTY_FIELD_AS_NULL = FALSE\n",
    "    error_on_column_count_mismatch=false\n",
    ")\n",
    "\n",
    "ON_ERROR=CONTINUE\n",
    "FORCE = TRUE ;"
   ]
  },
  {
   "cell_type": "markdown",
   "id": "2abde0da-eea1-4199-bb55-eb93a58c6528",
   "metadata": {
    "collapsed": false,
    "name": "cell28"
   },
   "source": [
    "Let's start with trying on our own.\n",
    "\n",
    "Can we easily just call an LLM, give it our user query and some table information, and expect it to provide us usable SQL?\n",
    "\n",
    "Let's try."
   ]
  },
  {
   "cell_type": "code",
   "execution_count": null,
   "id": "c82566c9-47e7-4a76-ace6-c0e4dd017fa4",
   "metadata": {
    "language": "python",
    "name": "cell32"
   },
   "outputs": [],
   "source": [
    "from snowflake.cortex import Complete\n",
    "\n",
    "user_query = \"What is the highest daily revenue recorded in a single day in each sales region?\"\n",
    "\n",
    "naive_text_to_sql_messages = [\n",
    "        {\n",
    "            'role': 'system',\n",
    "            'content': 'You are a helpful assistant that writes SQL to answer natural language questions. Respond with only SQL'\n",
    "        },\n",
    "        {\n",
    "            'role': 'user',\n",
    "            'content': f'The user has posed a question, which is captured in: {user_query}. '\n",
    "                       f'All tables are in the fully qualified snowflake schema: CORTEX_ANALYST_DEMO.REVENUE_TIMESERIES.'\n",
    "                       f'The tables available that can be used by the SQL are:'\n",
    "                       f'table: daily_revenue. columns: date, product_id, region_id, revenue, cogs, forecasted_revenue, daily_forecasted_revenue, daily_profit'\n",
    "                       f'table: product. columns: product_id, product_line'\n",
    "                       f'table: region. region_id, region, state'\n",
    "                       f'Please write valid snowflake SQL to answer the user question.'\n",
    "        }\n",
    "    ]\n",
    "    \n",
    "\n",
    "sql = Complete(\"claude-3-5-sonnet\", naive_text_to_sql_messages)"
   ]
  },
  {
   "cell_type": "code",
   "execution_count": null,
   "id": "3f1e66a2-ae16-4773-a28a-39cf67c1bf2f",
   "metadata": {
    "codeCollapsed": false,
    "collapsed": false,
    "language": "python",
    "name": "cell27"
   },
   "outputs": [],
   "source": [
    "sql"
   ]
  },
  {
   "cell_type": "code",
   "execution_count": null,
   "id": "0ff1a6be-26b9-4dc4-b020-6f311fd12aa6",
   "metadata": {
    "collapsed": false,
    "language": "python",
    "name": "cell29"
   },
   "outputs": [],
   "source": [
    "session = get_active_session()\n",
    "\n",
    "sql_output = session.sql(sql)\n",
    "\n",
    "sql_output"
   ]
  },
  {
   "cell_type": "markdown",
   "id": "cabbbf20-3724-46a6-a88d-6694f3928f65",
   "metadata": {
    "collapsed": false,
    "name": "cell26"
   },
   "source": [
    "## Using 'semantic models' to share context with LLMs\n",
    "\n",
    "Semantic models give us a structured way to capture information about our data and how it relates to our business. We can pass this information to the LLM to get better SQL generation."
   ]
  },
  {
   "cell_type": "code",
   "execution_count": null,
   "id": "66dba73d-94e1-4259-9a99-445f27c5c2f1",
   "metadata": {
    "collapsed": false,
    "language": "python",
    "name": "cell33"
   },
   "outputs": [],
   "source": [
    "semantic_model = \"\"\"\"\"\"\n",
    "\n",
    "semantic_model_name = \"\"\"\n",
    "name: Revenue\n",
    "\"\"\"\n",
    "\n",
    "semantic_model += semantic_model_name\n",
    "\n",
    "semantic_model_revenue = \"\"\"\n",
    "tables:\n",
    "  - name: daily_revenue\n",
    "    description: Daily total revenue, aligned with daily \"Cost of Goods Sold\" (COGS), and forecasted revenue.\n",
    "    base_table:\n",
    "      database: cortex_analyst_demo\n",
    "      schema: revenue_timeseries\n",
    "      table: daily_revenue\n",
    "    primary_key:\n",
    "      columns:\n",
    "        - date\n",
    "        - product_id\n",
    "        - region_id\n",
    "    dimensions:\n",
    "      - name: product_id\n",
    "        expr: product_id\n",
    "        data_type: number\n",
    "      - name: region_id\n",
    "        expr: region_id\n",
    "        data_type: number\n",
    "    time_dimensions:\n",
    "      - name: date\n",
    "        expr: date\n",
    "        description: date with measures of revenue, COGS, and forecasted revenue.\n",
    "        unique: true\n",
    "        data_type: date\n",
    "    measures:\n",
    "      - name: daily_revenue\n",
    "        expr: revenue\n",
    "        description: total revenue for the given day\n",
    "        synonyms: [\"sales\", \"income\"]\n",
    "        default_aggregation: sum\n",
    "        data_type: number\n",
    "      - name: daily_cogs\n",
    "        expr: cogs\n",
    "        description: total cost of goods sold for the given day\n",
    "        synonyms: [\"cost\", \"expenditures\"]\n",
    "        default_aggregation: sum\n",
    "        data_type: number\n",
    "      - name: daily_forecasted_revenue\n",
    "        expr: forecasted_revenue\n",
    "        description: total forecasted revenue for a given day\n",
    "        synonyms: [\"forecasted sales\", \"forecasted income\"]\n",
    "        default_aggregation: sum\n",
    "        data_type: number\n",
    "      - name: daily_profit\n",
    "        description: profit is the difference between revenue and expenses.\n",
    "        expr: revenue - cogs\n",
    "        data_type: number\n",
    "      - name: daily_forecast_abs_error\n",
    "        synonyms:\n",
    "          - absolute error\n",
    "          - L1\n",
    "        description: absolute error between forecasted and actual revenue\n",
    "        expr: abs(forecasted_revenue - revenue)\n",
    "        data_type: number\n",
    "        default_aggregation: avg\n",
    "\"\"\"\n",
    "\n",
    "semantic_model += semantic_model_revenue"
   ]
  },
  {
   "cell_type": "markdown",
   "id": "ddf296f8-563e-4947-bcea-2cca1f57ab7c",
   "metadata": {
    "collapsed": false,
    "name": "cell41"
   },
   "source": [
    "Now that we've expended more effort in writing down our semantic model of the data we want to use, let's try again to 'naively' pass it to a SOTA LLM."
   ]
  },
  {
   "cell_type": "code",
   "execution_count": null,
   "id": "f0a08baa-381c-489d-866d-8f673f879c08",
   "metadata": {
    "codeCollapsed": false,
    "collapsed": false,
    "language": "python",
    "name": "cell38"
   },
   "outputs": [],
   "source": [
    "from snowflake.cortex import Complete\n",
    "\n",
    "user_query = \"What is the highest daily revenue recorded in a single day in each sales region?\"\n",
    "\n",
    "naive_text_to_sql_messages = [\n",
    "        {\n",
    "            'role': 'system',\n",
    "            'content': 'You are a helpful assistant that writes snowflake SQL to answer natural language questions. Respond with only SQL'\n",
    "        },\n",
    "        {\n",
    "            'role': 'user',\n",
    "            'content': f'The user has posed a question, which is captured in: {user_query}. '\n",
    "                       f'All tables are in the fully qualified snowflake schema: CORTEX_ANALYST_DEMO.REVENUE_TIMESERIES.'\n",
    "                       f'{semantic_model}'\n",
    "                       f'Please write valid snowflake SQL to answer the user question, and do not include fences.'\n",
    "        }\n",
    "    ]\n",
    "    \n",
    "\n",
    "sql = Complete(\"claude-3-5-sonnet\", naive_text_to_sql_messages)"
   ]
  },
  {
   "cell_type": "code",
   "execution_count": null,
   "id": "58902f47-d70c-46e4-8927-b04739cd999f",
   "metadata": {
    "codeCollapsed": false,
    "collapsed": false,
    "language": "python",
    "name": "cell39"
   },
   "outputs": [],
   "source": [
    "sql"
   ]
  },
  {
   "cell_type": "code",
   "execution_count": null,
   "id": "97b08b65-2b7c-4a68-af6f-3adeb670831a",
   "metadata": {
    "codeCollapsed": false,
    "collapsed": false,
    "language": "python",
    "name": "cell40"
   },
   "outputs": [],
   "source": [
    "sql_output = session.sql(sql)\n",
    "\n",
    "sql_output"
   ]
  },
  {
   "cell_type": "markdown",
   "id": "b64f8548-56a4-4022-b454-c2293b2bbcf1",
   "metadata": {
    "collapsed": false,
    "name": "cell43"
   },
   "source": [
    "This worked pretty well, but it'd be great to have the region name instead of just the ID.\n",
    "\n",
    "Let's expand the semantic model to include the region table and how to join it with the revenue table."
   ]
  },
  {
   "cell_type": "code",
   "execution_count": null,
   "id": "a835ccbf-2f9e-4019-bb7b-a044b9cfe0ad",
   "metadata": {
    "collapsed": false,
    "language": "python",
    "name": "cell44"
   },
   "outputs": [],
   "source": [
    "semantic_model_region = \"\"\"\n",
    "  - name: region\n",
    "    description: Region dimension table with unique region identifiers and geographic attributes.\n",
    "    base_table:\n",
    "      database: cortex_analyst_demo\n",
    "      schema: revenue_timeseries\n",
    "      table: region_dim\n",
    "    primary_key:\n",
    "      columns:\n",
    "        - region_id\n",
    "    dimensions:\n",
    "      - name: region_id\n",
    "        expr: region_id\n",
    "        data_type: number\n",
    "      - name: sales_region\n",
    "        expr: sales_region\n",
    "        description: Region associated with revenue\n",
    "        data_type: varchar\n",
    "        sample_values:\n",
    "          - North America\n",
    "          - Europe\n",
    "          - Asia\n",
    "          - South America\n",
    "          - Africa\n",
    "\"\"\"\n",
    "\n",
    "semantic_model += semantic_model_region"
   ]
  },
  {
   "cell_type": "code",
   "execution_count": null,
   "id": "b94941ca-c4a6-4328-86ea-bb1e451f340a",
   "metadata": {
    "collapsed": false,
    "language": "python",
    "name": "cell34"
   },
   "outputs": [],
   "source": [
    "semantic_model_region_relationships = \"\"\"\n",
    "relationships:\n",
    "  - name: revenue_to_region\n",
    "    left_table: daily_revenue\n",
    "    right_table: region\n",
    "    relationship_columns:\n",
    "      - left_column: region_id\n",
    "        right_column: region_id\n",
    "    join_type: left_outer\n",
    "    relationship_type: many_to_one\n",
    "\"\"\"\n",
    "\n",
    "semantic_model += semantic_model_region_relationships"
   ]
  },
  {
   "cell_type": "code",
   "execution_count": null,
   "id": "d8ec4d49-2cee-452b-94d8-d4955b804dee",
   "metadata": {
    "collapsed": false,
    "language": "python",
    "name": "cell35"
   },
   "outputs": [],
   "source": [
    "from snowflake.cortex import Complete\n",
    "\n",
    "user_query = \"What is the highest daily revenue recorded in a single day in each sales region?\"\n",
    "\n",
    "naive_text_to_sql_messages = [\n",
    "        {\n",
    "            'role': 'system',\n",
    "            'content': 'You are a helpful assistant that writes snowflake SQL to answer natural language questions. Respond with only SQL'\n",
    "        },\n",
    "        {\n",
    "            'role': 'user',\n",
    "            'content': f'The user has posed a question, which is captured in: {user_query}. '\n",
    "                       f'All tables are in the fully qualified snowflake schema: CORTEX_ANALYST_DEMO.REVENUE_TIMESERIES.'\n",
    "                       f'{semantic_model}'\n",
    "                       f'Please write valid snowflake SQL to answer the user question, and do not include fences.'\n",
    "        }\n",
    "    ]\n",
    "    \n",
    "\n",
    "sql = Complete(\"claude-3-5-sonnet\", naive_text_to_sql_messages)\n",
    "\n",
    "sql"
   ]
  },
  {
   "cell_type": "code",
   "execution_count": null,
   "id": "9595f1d6-7a98-449e-b10b-6eb3b296314b",
   "metadata": {
    "collapsed": false,
    "language": "python",
    "name": "cell45"
   },
   "outputs": [],
   "source": [
    "sql_output = session.sql(sql)\n",
    "\n",
    "sql_output"
   ]
  },
  {
   "cell_type": "markdown",
   "id": "84056c8b-905e-4302-9bd3-ee957d997288",
   "metadata": {
    "collapsed": false,
    "name": "cell36"
   },
   "source": [
    "Now that we've got a tougher task, even the SOTA LLM fails to generate valid SQL.\n",
    "\n",
    "Let's turn to Cortex Analyst using the same semantic model."
   ]
  },
  {
   "cell_type": "markdown",
   "id": "c4e16b63-4492-4ef4-aa83-92de7e99af3f",
   "metadata": {
    "collapsed": false,
    "name": "cell16"
   },
   "source": [
    "## Call Cortex Analyst\n",
    "\n",
    "First, we'll just show how to make the REST API call and return SQL"
   ]
  },
  {
   "cell_type": "code",
   "execution_count": null,
   "id": "5136e911-32e6-4b9b-b35c-6f2e129322b3",
   "metadata": {
    "codeCollapsed": false,
    "collapsed": false,
    "language": "python",
    "name": "cell13"
   },
   "outputs": [],
   "source": [
    "import json\n",
    "import requests\n",
    "from typing import List\n",
    "import _snowflake\n",
    "from snowflake.snowpark.context import get_active_session\n",
    "\n",
    "API_ENDPOINT = \"/api/v2/cortex/analyst/message\"\n",
    "API_TIMEOUT = 50000  # in milliseconds\n",
    "\n",
    "def get_sql_from_cortex_analyst(query: str) -> List[str]:\n",
    "    \"\"\"\n",
    "    Calls Cortex Analyst with the user's query and returns any generated SQL statements.\n",
    "    \n",
    "    Returns:\n",
    "        A list of SQL statements found in the Analyst's response (there can be more than one).\n",
    "    \"\"\"\n",
    "    # Build the message list (only one user message for simplicity).\n",
    "    messages = [\n",
    "        {\n",
    "            \"role\": \"user\",\n",
    "            \"content\": [{\"type\": \"text\", \"text\": query}],\n",
    "        }\n",
    "    ]\n",
    "    \n",
    "    # Build the request body\n",
    "    request_body = {\n",
    "        \"messages\": messages,\n",
    "        \"semantic_model\": semantic_model,\n",
    "    }\n",
    "    \n",
    "    # Make the request to the Analyst API\n",
    "    resp = _snowflake.send_snow_api_request(\n",
    "        \"POST\",  # method\n",
    "        API_ENDPOINT,  # path\n",
    "        {},  # headers\n",
    "        {},  # params\n",
    "        request_body,  # body\n",
    "        None,  # request_guid\n",
    "        API_TIMEOUT,  # timeout in milliseconds\n",
    "    )\n",
    "    \n",
    "    # Use resp.json() to get parsed JSON\n",
    "    parsed_content = json.loads(resp[\"content\"])\n",
    "\n",
    "    return parsed_content[\"message\"][\"content\"][1]\n",
    "\n",
    "user_query = \"What is the highest daily revenue recorded in a single day in each sales region?\"\n",
    "analyst_output = get_sql_from_cortex_analyst(user_query)"
   ]
  },
  {
   "cell_type": "code",
   "execution_count": null,
   "id": "876ad56b-2f87-42d9-aa23-319cec6ae67a",
   "metadata": {
    "codeCollapsed": false,
    "collapsed": false,
    "language": "python",
    "name": "cell48"
   },
   "outputs": [],
   "source": [
    "analyst_output"
   ]
  },
  {
   "cell_type": "markdown",
   "id": "73b4e6cf-2733-46f1-ba48-9709fe061ffe",
   "metadata": {
    "collapsed": false,
    "name": "cell11"
   },
   "source": [
    "## Run the SQL\n",
    "\n",
    "Next, we can run the sql and save it to a variable"
   ]
  },
  {
   "cell_type": "code",
   "execution_count": null,
   "id": "ebbb6f6a-05db-48e3-aa42-9124b01bcbcb",
   "metadata": {
    "codeCollapsed": false,
    "collapsed": false,
    "language": "python",
    "name": "cell15"
   },
   "outputs": [],
   "source": [
    "sql_output = session.sql(analyst_output['statement'])\n",
    "\n",
    "sql_output"
   ]
  },
  {
   "cell_type": "markdown",
   "id": "b057e25e-d7b4-4084-b943-c02a47761d13",
   "metadata": {
    "collapsed": false,
    "name": "cell19"
   },
   "source": [
    "## Let's not stop at the table, and get to a natural language response\n",
    "\n",
    "Pass SQL output to LLM-readable markdown\n",
    "\n",
    "Note: Make sure `tabulate` library is installed"
   ]
  },
  {
   "cell_type": "code",
   "execution_count": null,
   "id": "1e2ca41d-cbb3-4f65-b92f-41dd897a633a",
   "metadata": {
    "codeCollapsed": false,
    "collapsed": false,
    "language": "python",
    "name": "cell20"
   },
   "outputs": [],
   "source": [
    "markdown_sql_output = sql_output.to_pandas().to_markdown(index=False)"
   ]
  },
  {
   "cell_type": "code",
   "execution_count": null,
   "id": "5daa4555-0e50-49c1-8f58-7bbb24bb920b",
   "metadata": {
    "codeCollapsed": false,
    "collapsed": false,
    "language": "python",
    "name": "cell21"
   },
   "outputs": [],
   "source": [
    "markdown_sql_output"
   ]
  },
  {
   "cell_type": "markdown",
   "id": "a69abba1-9785-4776-ae3e-636e515d6f05",
   "metadata": {
    "collapsed": false,
    "name": "cell22"
   },
   "source": [
    "## Send the query and SQL output to the LLM"
   ]
  },
  {
   "cell_type": "code",
   "execution_count": null,
   "id": "65068655-7f77-4c94-9b5c-d4a162f3e90e",
   "metadata": {
    "codeCollapsed": false,
    "collapsed": false,
    "language": "python",
    "name": "cell17"
   },
   "outputs": [],
   "source": [
    "from snowflake.cortex import Complete\n",
    "import pandas as pd\n",
    "\n",
    "messages = [\n",
    "        {\n",
    "            'role': 'system',\n",
    "            'content': 'You are a helpful assistant that sql output to answer natural language questions.'\n",
    "        },\n",
    "        {\n",
    "            'role': 'user',\n",
    "            'content': f'The user has posed a question, which is captured in: {user_query}. '\n",
    "                       f'The question has been translated into a SQL statement, executed, and the results are found in:'\n",
    "                       f'\\n{markdown_sql_output}'\n",
    "                       f'Please answer the user question.'\n",
    "        }\n",
    "    ]\n",
    "\n",
    "options = {\n",
    "    'guardrails': True,\n",
    "}\n",
    "\n",
    "Complete(\"claude-3-5-sonnet\", messages, options = options)"
   ]
  },
  {
   "cell_type": "markdown",
   "id": "0ee93533-b6cd-4c5f-9d3f-085b39416064",
   "metadata": {
    "collapsed": false,
    "name": "cell14"
   },
   "source": [
    "## Put it together\n",
    "\n",
    "Now we have a single method that can answer questions from tabular data!"
   ]
  },
  {
   "cell_type": "code",
   "execution_count": null,
   "id": "53d4b1d1-729a-4b53-828b-ff01782db3ee",
   "metadata": {
    "codeCollapsed": false,
    "collapsed": false,
    "language": "python",
    "name": "cell23"
   },
   "outputs": [],
   "source": [
    "def answer_question_using_analyst(query: str):\n",
    "    # use cortex analyst to generate sql for the query\n",
    "    analyst_output = get_sql_from_cortex_analyst(query)\n",
    "    # execute sql\n",
    "    sql_output = session.sql(analyst_output['statement'])\n",
    "    # make the output LLM-readable\n",
    "    markdown_sql_output = sql_output.to_pandas().to_markdown(index=False)\n",
    "    # send query and sql results to LLM\n",
    "    messages = [\n",
    "        {\n",
    "            'role': 'system',\n",
    "            'content': 'You are a helpful assistant that sql output to answer natural language questions.'\n",
    "        },\n",
    "        {\n",
    "            'role': 'user',\n",
    "            'content': f'The user has posed a question, which is captured in: {user_query}. '\n",
    "                       f'The question has been translated into a SQL statement, executed, and the results are found in:'\n",
    "                       f'\\n{markdown_sql_output}'\n",
    "                       f'Please answer the user question.'\n",
    "        }\n",
    "    ]\n",
    "    \n",
    "    \n",
    "    options = {\n",
    "        'guardrails': True,\n",
    "    }\n",
    "\n",
    "    response = Complete(\"claude-3-5-sonnet\", messages, options = options)\n",
    "\n",
    "    return response"
   ]
  },
  {
   "cell_type": "code",
   "execution_count": null,
   "id": "4f61fb90-c40c-4e04-8fc1-a3840993ba7a",
   "metadata": {
    "codeCollapsed": false,
    "collapsed": false,
    "language": "python",
    "name": "cell24"
   },
   "outputs": [],
   "source": [
    "answer_question_using_analyst(\"What is the highest daily revenue recorded in a single day in each sales region?\")"
   ]
  },
  {
   "cell_type": "markdown",
   "id": "151a4d91-a9d4-4d24-9df6-774a56810baf",
   "metadata": {
    "collapsed": false,
    "name": "cell30"
   },
   "source": [
    "## Expanding Scope\n",
    "\n",
    "Now that Cortex Analyst can answer questions about revenue and break down by region, let's see expand to include breakdowns by different product lines."
   ]
  },
  {
   "cell_type": "code",
   "execution_count": null,
   "id": "1b980bd1-8108-45b7-890c-ec0fbcb92a04",
   "metadata": {
    "codeCollapsed": false,
    "collapsed": false,
    "language": "python",
    "name": "cell37"
   },
   "outputs": [],
   "source": [
    "semantic_model_product = \"\"\"\n",
    "tables:\n",
    "  - name: product\n",
    "    description: Product dimension table with unique product identifiers and attributes.\n",
    "    base_table:\n",
    "      database: cortex_analyst_demo\n",
    "      schema: revenue_timeseries\n",
    "      table: product_dim\n",
    "    primary_key:\n",
    "      columns:\n",
    "        - product_id\n",
    "    dimensions:\n",
    "      - name: product_id\n",
    "        expr: product_id\n",
    "        data_type: number\n",
    "      - name: product_line\n",
    "        expr: product_line\n",
    "        description: Product line associated with revenue\n",
    "        data_type: varchar\n",
    "        sample_values:\n",
    "          - Electronics\n",
    "          - Clothing\n",
    "          - Home Appliances\n",
    "          - Toys\n",
    "          - Books\n",
    "\"\"\"\n",
    "\n",
    "\n",
    "semantic_model = semantic_model.replace(\"tables:\", semantic_model_product)"
   ]
  },
  {
   "cell_type": "markdown",
   "id": "31322281-80ec-4143-b611-08df10dde463",
   "metadata": {
    "collapsed": false,
    "name": "cell10"
   },
   "source": [
    "## Create a Cortex Search service to help Analyst\n",
    "\n",
    "Now, you will integrate Cortex Search as a way to improve literal string searches to help Cortex Analyst generate more accurate SQL queries. Writing the correct SQL query to answer a question sometimes requires knowing exact literal values to filter on. Since those values can't always be extracted directly from the question, a search of some kind may be needed."
   ]
  },
  {
   "cell_type": "code",
   "execution_count": null,
   "id": "c67b082a-bdcb-4112-a93e-1a5cc6ce3604",
   "metadata": {
    "codeCollapsed": false,
    "collapsed": false,
    "language": "sql",
    "name": "cell12"
   },
   "outputs": [],
   "source": [
    "USE DATABASE cortex_analyst_demo;\n",
    "USE SCHEMA revenue_timeseries;\n",
    "use ROLE cortex_user_role;\n",
    "\n",
    "CREATE OR REPLACE CORTEX SEARCH SERVICE product_line_search_service\n",
    "  ON product_dimension\n",
    "  WAREHOUSE = cortex_analyst_wh\n",
    "  TARGET_LAG = '1 hour'\n",
    "  AS (\n",
    "      SELECT DISTINCT product_line AS product_dimension FROM product_dim\n",
    "  );"
   ]
  },
  {
   "cell_type": "code",
   "execution_count": null,
   "id": "0aba47e0-fdff-43da-8a31-c2046d1369ae",
   "metadata": {
    "collapsed": false,
    "language": "python",
    "name": "cell42"
   },
   "outputs": [],
   "source": [
    "semantic_model_product_search_service = \"\"\"\n",
    "tables:\n",
    "  - name: product_dimension\n",
    "    base_table:\n",
    "      database: cortex_analyst_demo\n",
    "      schema: revenue_timeseries\n",
    "      table: product_dim\n",
    "\n",
    "    dimensions:\n",
    "      - name: product_line\n",
    "        expr: product_line\n",
    "        cortex_search_service_name: product_line_search_service\n",
    "        data_type: varchar\n",
    "\n",
    "\"\"\"\n",
    "\n",
    "semantic_model = semantic_model.replace(\"tables:\", semantic_model_product_search_service)"
   ]
  },
  {
   "cell_type": "code",
   "execution_count": null,
   "id": "83422446-0bae-48d2-a078-2c999fb00be8",
   "metadata": {
    "codeCollapsed": false,
    "collapsed": false,
    "language": "python",
    "name": "cell54"
   },
   "outputs": [],
   "source": [
    "semantic_model_product_relationships = \"\"\"\n",
    "relationships:\n",
    "  - name: revenue_to_product\n",
    "    left_table: daily_revenue\n",
    "    right_table: product\n",
    "    relationship_columns:\n",
    "      - left_column: product_id\n",
    "        right_column: product_id\n",
    "    join_type: left_outer\n",
    "    relationship_type: many_to_one\n",
    "\"\"\"\n",
    "\n",
    "semantic_model = semantic_model.replace(\"relationships:\", semantic_model_product_relationships)"
   ]
  },
  {
   "cell_type": "code",
   "execution_count": null,
   "id": "07eb22f0-1fa2-4469-ad65-b15857975d3c",
   "metadata": {
    "collapsed": false,
    "language": "python",
    "name": "cell56"
   },
   "outputs": [],
   "source": [
    "semantic_model"
   ]
  },
  {
   "cell_type": "code",
   "execution_count": null,
   "id": "08a34f50-1503-4fb8-a680-cb2b66e48591",
   "metadata": {
    "codeCollapsed": false,
    "collapsed": false,
    "language": "python",
    "name": "cell25"
   },
   "outputs": [],
   "source": [
    "answer_question_using_analyst(\"What is the highest daily revenue recorded in a single day for each product line?\")"
   ]
  },
  {
   "cell_type": "markdown",
   "id": "39f9b477-e7b4-4c7e-b637-28d6e9c2fe2f",
   "metadata": {
    "collapsed": false,
    "name": "cell49"
   },
   "source": [
    "## Custom Instructions\n",
    "\n",
    "What if - when we use analyst, we always want the answers broken down by year in addition.\n",
    "\n",
    "Rather than putting that in the query, we could add it to our semantic model as a custom instruction."
   ]
  },
  {
   "cell_type": "code",
   "execution_count": null,
   "id": "015307ce-5275-48cc-9ecc-6ead99bb1eb6",
   "metadata": {
    "codeCollapsed": false,
    "collapsed": false,
    "language": "python",
    "name": "cell50"
   },
   "outputs": [],
   "source": [
    "semantic_model_custom_instructions = \"\"\"\n",
    "custom_instructions: \"Always break results down by year\"\n",
    "\"\"\"\n",
    "\n",
    "semantic_model += semantic_model_custom_instructions"
   ]
  },
  {
   "cell_type": "code",
   "execution_count": null,
   "id": "4d405ce4-74e5-4899-b536-5bca57d0fb43",
   "metadata": {
    "codeCollapsed": false,
    "collapsed": false,
    "language": "python",
    "name": "cell46"
   },
   "outputs": [],
   "source": [
    "answer_question_using_analyst(\"What is the highest daily revenue recorded in a single day for each product line?\")"
   ]
  },
  {
   "cell_type": "markdown",
   "id": "5c880fbc-b65e-4a4d-a3ea-656fa4394c8a",
   "metadata": {
    "collapsed": false,
    "name": "cell51"
   },
   "source": [
    "## Verified Queries\n",
    "\n",
    "Once we've established the accuracy of queries used in cortex analyst, we can verify them by further expanding the semantic model."
   ]
  },
  {
   "cell_type": "code",
   "execution_count": null,
   "id": "22be3e9d-cc91-4c97-8e83-bebbbc63eae3",
   "metadata": {
    "language": "sql",
    "name": "cell18"
   },
   "outputs": [],
   "source": [
    "WITH __daily_revenue AS (\n",
    "  SELECT\n",
    "    region_id,\n",
    "    date,\n",
    "    revenue AS daily_revenue\n",
    "  FROM cortex_analyst_demo.revenue_timeseries.daily_revenue\n",
    "), __region AS (\n",
    "  SELECT\n",
    "    region_id,\n",
    "    sales_region\n",
    "  FROM cortex_analyst_demo.revenue_timeseries.region_dim\n",
    "), daily_revenue_by_region AS (\n",
    "  SELECT\n",
    "    r.sales_region,\n",
    "    d.date,\n",
    "    SUM(d.daily_revenue) AS total_daily_revenue\n",
    "  FROM __daily_revenue AS d\n",
    "  LEFT OUTER JOIN __region AS r\n",
    "    ON d.region_id = r.region_id\n",
    "  GROUP BY\n",
    "    r.sales_region,\n",
    "    d.date\n",
    ")\n",
    "SELECT\n",
    "  sales_region,\n",
    "  MAX(total_daily_revenue) AS highest_daily_revenue,\n",
    "  MIN(date) AS data_start_date,\n",
    "  MAX(date) AS data_end_date\n",
    "FROM daily_revenue_by_region\n",
    "GROUP BY\n",
    "  sales_region\n",
    "ORDER BY\n",
    "  highest_daily_revenue DESC NULLS LAST\n",
    " -- Generated by Cortex Analyst\n",
    ";"
   ]
  },
  {
   "cell_type": "code",
   "execution_count": null,
   "id": "3d0996f6-d65a-4f63-af5d-6416fbfedc1f",
   "metadata": {
    "language": "python",
    "name": "cell57"
   },
   "outputs": [],
   "source": [
    "semantic_model_verified_queries = \"\"\"\n",
    "verified_queries:\n",
    "  - name: \"highest daily revenue by region\"\n",
    "    question: \"What is the highest daily revenue recorded in a single day for each product line?\"\n",
    "    verified_at: 1738020395\n",
    "    verified_by: josh\n",
    "    sql: \"\n",
    "WITH __daily_revenue AS (\n",
    "  SELECT\n",
    "    region_id,\n",
    "    date,\n",
    "    revenue AS daily_revenue\n",
    "  FROM cortex_analyst_demo.revenue_timeseries.daily_revenue\n",
    "), __region AS (\n",
    "  SELECT\n",
    "    region_id,\n",
    "    sales_region\n",
    "  FROM cortex_analyst_demo.revenue_timeseries.region_dim\n",
    "), daily_revenue_by_region AS (\n",
    "  SELECT\n",
    "    r.sales_region,\n",
    "    d.date,\n",
    "    SUM(d.daily_revenue) AS total_daily_revenue\n",
    "  FROM __daily_revenue AS d\n",
    "  LEFT OUTER JOIN __region AS r\n",
    "    ON d.region_id = r.region_id\n",
    "  GROUP BY\n",
    "    r.sales_region,\n",
    "    d.date\n",
    ")\n",
    "SELECT\n",
    "  sales_region,\n",
    "  MAX(total_daily_revenue) AS highest_daily_revenue,\n",
    "  MIN(date) AS data_start_date,\n",
    "  MAX(date) AS data_end_date\n",
    "FROM daily_revenue_by_region\n",
    "GROUP BY\n",
    "  sales_region\n",
    "ORDER BY\n",
    "  highest_daily_revenue DESC NULLS LAST\n",
    " -- Generated by Cortex Analyst\n",
    ";\n",
    "\"\n",
    "\"\"\"\n",
    "\n",
    "semantic_model += semantic_model_verified_queries"
   ]
  },
  {
   "cell_type": "markdown",
   "id": "716bfeb1-67ed-4c22-a615-a1a12f417cc4",
   "metadata": {
    "collapsed": false,
    "name": "cell59"
   },
   "source": [
    "Test with get_sql function"
   ]
  },
  {
   "cell_type": "code",
   "execution_count": null,
   "id": "11aaddc3-42fe-4809-a59f-8858751861d0",
   "metadata": {
    "codeCollapsed": false,
    "collapsed": false,
    "language": "python",
    "name": "cell55"
   },
   "outputs": [],
   "source": [
    "get_sql_from_cortex_analyst(\"What is the highest daily revenue recorded in a single day for each product line?\")"
   ]
  }
 ],
 "metadata": {
  "kernelspec": {
   "display_name": "Streamlit Notebook",
   "name": "streamlit"
  },
  "lastEditStatus": {
   "authorEmail": "josh.reini@snowflake.com",
   "authorId": "273899124272",
   "authorName": "JREINI",
   "lastEditTime": 1738020784323,
   "notebookId": "5v6ontkg6xf5sjzbcbpz",
   "sessionId": "3eb4ed7e-a9be-4b0b-af2c-792b34299f22"
  }
 },
 "nbformat": 4,
 "nbformat_minor": 5
}
