{
 "cells": [
  {
   "cell_type": "markdown",
   "id": "3a4592fd-4b80-477a-a701-193c6c243b58",
   "metadata": {
    "collapsed": false,
    "name": "cell2",
    "resultHeight": 74
   },
   "source": [
    "# Module 2: Build a RAG with Cortex Search\n",
    "\n",
    " \n",
    "To run, first install the following packages: `snowflake-ml-python`, `snowflake.core`, `trulens-core`, `trulens-feedback`, `trulens-providers-cortex`, `trulens-connectors-snowflake`, `trulens-otel-semconv`"
   ]
  },
  {
   "cell_type": "markdown",
   "id": "0a1550b9-345a-4b6d-9ee2-0cf064464a53",
   "metadata": {
    "collapsed": false,
    "name": "cell3",
    "resultHeight": 60
   },
   "source": [
    "## Create the database, tables and warehouse"
   ]
  },
  {
   "cell_type": "code",
   "execution_count": null,
   "id": "a3105267-f3f3-457e-ae9f-310469dd5c00",
   "metadata": {
    "collapsed": false,
    "language": "python",
    "name": "cell38",
    "resultHeight": 0
   },
   "outputs": [],
   "source": [
    "from snowflake.snowpark.context import get_active_session\n",
    "session = get_active_session()"
   ]
  },
  {
   "cell_type": "code",
   "execution_count": null,
   "id": "3775908f-ca36-4846-8f38-5adca39217f2",
   "metadata": {
    "codeCollapsed": false,
    "collapsed": false,
    "language": "sql",
    "name": "cell1",
    "resultHeight": 0,
    "vscode": {
     "languageId": "sql"
    }
   },
   "outputs": [],
   "source": [
    "CREATE DATABASE IF NOT EXISTS cortex_search_tutorial_db;\n",
    "\n",
    "CREATE OR REPLACE WAREHOUSE cortex_search_tutorial_wh WITH\n",
    "     WAREHOUSE_SIZE='X-SMALL'\n",
    "     AUTO_SUSPEND = 120\n",
    "     AUTO_RESUME = TRUE\n",
    "     INITIALLY_SUSPENDED=TRUE;\n",
    "\n",
    " USE WAREHOUSE cortex_search_tutorial_wh;"
   ]
  },
  {
   "cell_type": "markdown",
   "id": "70e9ef02-2494-4b6b-b8ad-735ae46fbd05",
   "metadata": {
    "collapsed": false,
    "name": "cell4",
    "resultHeight": 150
   },
   "source": [
    "Note:\n",
    "\n",
    "The CREATE DATABASE statement creates a database. The database automatically includes a schema named PUBLIC.\n",
    "\n",
    "The CREATE WAREHOUSE statement creates an initially suspended warehouse."
   ]
  },
  {
   "cell_type": "markdown",
   "id": "3caaed33-9e4f-4d6f-bfee-594856707302",
   "metadata": {
    "collapsed": false,
    "name": "cell34",
    "resultHeight": 303
   },
   "source": [
    "## Get PDF data\n",
    "\n",
    "You will use a sample dataset of the Federal Open Market Committee (FOMC) meeting minutes for this example. This is a sample of twelve 10-page documents with meeting notes from FOMC meetings from 2023 and 2024. Download the files directly from your browser by following this link:\n",
    "\n",
    "[FOMC minutes sample](https://drive.google.com/file/d/1C6TdVjy6d-GnasGO6ZrIEVJQRcedDQxG/view)\n",
    "\n",
    "The complete set of FOMC minutes can be found at the [US Federal Reserve’s website](https://www.federalreserve.gov/monetarypolicy/fomccalendars.htm).\n",
    "\n",
    "Note: In a non-classroom setting, you would bring your own data, possibly already in a Snowflake stage."
   ]
  },
  {
   "cell_type": "markdown",
   "id": "d8014de4-0579-4afc-b9be-2dbd623d3d44",
   "metadata": {
    "collapsed": false,
    "name": "cell5",
    "resultHeight": 60
   },
   "source": [
    "## Load data into Snowflake stage"
   ]
  },
  {
   "cell_type": "code",
   "execution_count": null,
   "id": "f0e8d596-146e-4a6f-8a7b-4187b05e39db",
   "metadata": {
    "codeCollapsed": false,
    "collapsed": false,
    "language": "sql",
    "name": "cell6",
    "resultHeight": 0,
    "vscode": {
     "languageId": "sql"
    }
   },
   "outputs": [],
   "source": [
    "CREATE OR REPLACE STAGE cortex_search_tutorial_db.public.fomc\n",
    "    DIRECTORY = (ENABLE = TRUE)\n",
    "    ENCRYPTION = (TYPE = 'SNOWFLAKE_SSE');"
   ]
  },
  {
   "cell_type": "markdown",
   "id": "ebb1b9d5-d330-43df-ace2-7f9f8883a085",
   "metadata": {
    "collapsed": false,
    "name": "cell7",
    "resultHeight": 374
   },
   "source": [
    "Now upload the dataset. You can upload the dataset in Snowsight or using SQL. To upload in Snowsight:\n",
    "\n",
    "1. Sign in to Snowsight.\n",
    "\n",
    "2. Select Data in the left-side navigation menu.\n",
    "\n",
    "3. Select your database cortex_search_tutorial_db.\n",
    "\n",
    "4. Select your schema public.\n",
    "\n",
    "5. Select Stages and select fomc.\n",
    "\n",
    "6. On the top right, Select the + Files button.\n",
    "\n",
    "7. Drag and drop files into the UI or select Browse to choose a file from the dialog window.\n",
    "\n",
    "8. Select Upload to upload your file."
   ]
  },
  {
   "cell_type": "markdown",
   "id": "1840b0d9-89a3-472f-aee5-92ae1717e231",
   "metadata": {
    "collapsed": false,
    "name": "cell8",
    "resultHeight": 60
   },
   "source": [
    "## Verify the PDF Files are uploaded to stage"
   ]
  },
  {
   "cell_type": "code",
   "execution_count": null,
   "id": "a7f0aeb5-1683-47e0-a5a1-f253a0ee69e6",
   "metadata": {
    "collapsed": false,
    "language": "sql",
    "name": "cell36",
    "vscode": {
     "languageId": "sql"
    }
   },
   "outputs": [],
   "source": [
    "ls @cortex_search_tutorial_db.public.fomc"
   ]
  },
  {
   "cell_type": "markdown",
   "id": "81011f41-48b1-4c38-8ed6-a5ee1f5d8289",
   "metadata": {
    "collapsed": false,
    "name": "cell11",
    "resultHeight": 60
   },
   "source": [
    "## Parse PDF Files"
   ]
  },
  {
   "cell_type": "code",
   "execution_count": null,
   "id": "d7d08d4e-c732-48e9-b526-e3bc848f10d9",
   "metadata": {
    "codeCollapsed": false,
    "collapsed": false,
    "language": "sql",
    "name": "cell10",
    "vscode": {
     "languageId": "sql"
    }
   },
   "outputs": [],
   "source": [
    "CREATE OR REPLACE TABLE CORTEX_SEARCH_TUTORIAL_DB.PUBLIC.PARSED_FOMC_CONTENT AS SELECT \n",
    "      relative_path,\n",
    "      TO_VARCHAR(\n",
    "        SNOWFLAKE.CORTEX.PARSE_DOCUMENT(\n",
    "          @cortex_search_tutorial_db.public.fomc, \n",
    "          relative_path, \n",
    "          {'mode': 'LAYOUT'}\n",
    "        ) :content\n",
    "      ) AS parsed_text\n",
    "    FROM directory(@cortex_search_tutorial_db.public.fomc)\n",
    "    WHERE relative_path LIKE '%.pdf'"
   ]
  },
  {
   "cell_type": "code",
   "execution_count": null,
   "id": "5748401d-8846-408f-b35c-c9cdb58bcd1b",
   "metadata": {
    "language": "sql",
    "name": "cell12",
    "vscode": {
     "languageId": "sql"
    }
   },
   "outputs": [],
   "source": [
    "SELECT * FROM CORTEX_SEARCH_TUTORIAL_DB.PUBLIC.PARSED_FOMC_CONTENT LIMIT 2"
   ]
  },
  {
   "cell_type": "markdown",
   "id": "2432741a-f082-4085-a15a-a67ebb6f0c05",
   "metadata": {
    "collapsed": false,
    "name": "cell13",
    "resultHeight": 102
   },
   "source": [
    "## Chunk text"
   ]
  },
  {
   "cell_type": "code",
   "execution_count": null,
   "id": "63fca862-936f-489c-be8b-3e71410914d2",
   "metadata": {
    "codeCollapsed": false,
    "collapsed": false,
    "language": "sql",
    "name": "cell15",
    "vscode": {
     "languageId": "sql"
    }
   },
   "outputs": [],
   "source": [
    "CREATE OR REPLACE TABLE CORTEX_SEARCH_TUTORIAL_DB.PUBLIC.CHUNKED_FOMC_CONTENT (\n",
    "    file_name VARCHAR,\n",
    "    CHUNK VARCHAR\n",
    ");\n",
    "\n",
    "INSERT INTO CORTEX_SEARCH_TUTORIAL_DB.PUBLIC.CHUNKED_FOMC_CONTENT (file_name, CHUNK)\n",
    "SELECT\n",
    "    relative_path,\n",
    "    c.value AS CHUNK\n",
    "FROM\n",
    "    CORTEX_SEARCH_TUTORIAL_DB.PUBLIC.PARSED_FOMC_CONTENT,\n",
    "    LATERAL FLATTEN( input => SNOWFLAKE.CORTEX.SPLIT_TEXT_RECURSIVE_CHARACTER (\n",
    "        parsed_text,\n",
    "        'markdown',\n",
    "        1800,\n",
    "        250\n",
    "    )) c;"
   ]
  },
  {
   "cell_type": "code",
   "execution_count": null,
   "id": "175499b5-7c4a-4fa0-9182-ceeeb2ec5e2a",
   "metadata": {
    "codeCollapsed": false,
    "collapsed": false,
    "language": "sql",
    "name": "cell18",
    "resultHeight": 0,
    "vscode": {
     "languageId": "sql"
    }
   },
   "outputs": [],
   "source": [
    "SELECT * FROM CORTEX_SEARCH_TUTORIAL_DB.PUBLIC.CHUNKED_FOMC_CONTENT LIMIT 10"
   ]
  },
  {
   "cell_type": "markdown",
   "id": "2ecbdbcd-6a4a-49ae-920f-f60524a2354f",
   "metadata": {
    "collapsed": false,
    "name": "cell14",
    "resultHeight": 60
   },
   "source": [
    "## Create Search Service"
   ]
  },
  {
   "cell_type": "code",
   "execution_count": null,
   "id": "b16b88ac-7fa2-408e-b7b4-44c2fe1539d1",
   "metadata": {
    "collapsed": false,
    "language": "sql",
    "name": "cell16",
    "resultHeight": 0,
    "vscode": {
     "languageId": "sql"
    }
   },
   "outputs": [],
   "source": [
    "CREATE OR REPLACE CORTEX SEARCH SERVICE CORTEX_SEARCH_TUTORIAL_DB.PUBLIC.FOMC_SEARCH_SERVICE\n",
    "    ON chunk\n",
    "    WAREHOUSE = cortex_search_tutorial_wh\n",
    "    TARGET_LAG = '1 minute'\n",
    "    EMBEDDING_MODEL = 'snowflake-arctic-embed-l-v2.0'\n",
    "    AS (\n",
    "    SELECT\n",
    "        file_name,\n",
    "        chunk\n",
    "    FROM CORTEX_SEARCH_TUTORIAL_DB.PUBLIC.CHUNKED_FOMC_CONTENT\n",
    "    );"
   ]
  },
  {
   "cell_type": "markdown",
   "id": "25cc75d5-dd7f-4779-98a7-cc3013891ee8",
   "metadata": {
    "collapsed": false,
    "name": "cell31",
    "resultHeight": 60
   },
   "source": [
    "## Use the Search Service"
   ]
  },
  {
   "cell_type": "code",
   "execution_count": null,
   "id": "b999eb72-2f6c-4e56-908b-048bb2110540",
   "metadata": {
    "codeCollapsed": false,
    "collapsed": false,
    "language": "python",
    "name": "cell17",
    "resultHeight": 0
   },
   "outputs": [],
   "source": [
    "import os\n",
    "from snowflake.core import Root\n",
    "from typing import List\n",
    "from snowflake.snowpark.session import Session\n",
    "\n",
    "class CortexSearchRetriever:\n",
    "\n",
    "    def __init__(self, snowpark_session: Session, limit_to_retrieve: int = 4):\n",
    "        self._snowpark_session = snowpark_session\n",
    "        self._limit_to_retrieve = limit_to_retrieve\n",
    "\n",
    "    def retrieve(self, query: str) -> List[str]:\n",
    "        root = Root(session)\n",
    "\n",
    "        search_service = (root\n",
    "          .databases[\"CORTEX_SEARCH_TUTORIAL_DB\"]\n",
    "          .schemas[\"PUBLIC\"]\n",
    "          .cortex_search_services[\"FOMC_SEARCH_SERVICE\"]\n",
    "        )\n",
    "        resp = search_service.search(\n",
    "          query=query,\n",
    "          columns=[\"chunk\"],\n",
    "          limit=self._limit_to_retrieve\n",
    "        )\n",
    "\n",
    "        if resp.results:\n",
    "            return [curr[\"chunk\"] for curr in resp.results]\n",
    "        else:\n",
    "            return []"
   ]
  },
  {
   "cell_type": "code",
   "execution_count": null,
   "id": "ca2eb526-bba7-4226-a7c7-6534a489fd1d",
   "metadata": {
    "codeCollapsed": false,
    "collapsed": false,
    "language": "python",
    "name": "cell21",
    "resultHeight": 1534
   },
   "outputs": [],
   "source": [
    "retriever = CortexSearchRetriever(snowpark_session=session, limit_to_retrieve=3)\n",
    "\n",
    "retrieved_context = retriever.retrieve(query=\"how was inflation expected to evolve in 2024?\")\n",
    "\n",
    "retrieved_context"
   ]
  },
  {
   "cell_type": "markdown",
   "id": "14899460",
   "metadata": {},
   "source": [
    "## Turn on OpenTelemetry Tracing"
   ]
  },
  {
   "cell_type": "code",
   "execution_count": null,
   "id": "a4b668b1",
   "metadata": {},
   "outputs": [],
   "source": [
    "import os\n",
    "os.environ[\"TRULENS_OTEL_TRACING\"] = \"1\""
   ]
  },
  {
   "cell_type": "code",
   "execution_count": null,
   "id": "d2edf993",
   "metadata": {
    "vscode": {
     "languageId": "sql"
    }
   },
   "outputs": [],
   "source": [
    "create or replace database observability_db;\n",
    "use database observability_db;\n",
    "create or replace schema observability_schema;\n",
    "use schema observability_schema;"
   ]
  },
  {
   "cell_type": "markdown",
   "id": "484447dc",
   "metadata": {},
   "source": [
    "## Create the RAG with instrumentation"
   ]
  },
  {
   "cell_type": "code",
   "execution_count": null,
   "id": "f6e31278-11c1-49e2-88a6-04eb58da532d",
   "metadata": {
    "codeCollapsed": false,
    "collapsed": false,
    "language": "python",
    "name": "cell9",
    "resultHeight": 0
   },
   "outputs": [],
   "source": [
    "from snowflake.cortex import complete\n",
    "from trulens.core.otel.instrument import instrument\n",
    "from trulens.otel.semconv.trace import SpanAttributes\n",
    "class RAG:\n",
    "\n",
    "    def __init__(self):\n",
    "        self.retriever = CortexSearchRetriever(snowpark_session=session, limit_to_retrieve=4)\n",
    "\n",
    "    @instrument(\n",
    "        span_type=SpanAttributes.SpanType.RETRIEVAL,\n",
    "        attributes={\n",
    "            SpanAttributes.RETRIEVAL.QUERY_TEXT: \"query\",\n",
    "            SpanAttributes.RETRIEVAL.RETRIEVED_CONTEXTS: \"return\",\n",
    "            }\n",
    "    )\n",
    "    def retrieve_context(self, query: str) -> list:\n",
    "        \"\"\"\n",
    "        Retrieve relevant text from vector store.\n",
    "        \"\"\"\n",
    "        return self.retriever.retrieve(query)\n",
    "\n",
    "\n",
    "    @instrument(\n",
    "        span_type=SpanAttributes.SpanType.GENERATION)\n",
    "    def generate_completion(self, query: str, context_str: list) -> str:\n",
    "        \"\"\"\n",
    "        Generate answer from context.\n",
    "        \"\"\"\n",
    "        prompt = f\"\"\"\n",
    "          You are an expert assistant extracting information from context provided.\n",
    "          Answer the question in long-form, fully and completely, based on the context. Do not hallucinate.\n",
    "          If you don´t have the information just say so.\n",
    "          Context: {context_str}\n",
    "          Question:\n",
    "          {query}\n",
    "          Answer:\n",
    "        \"\"\"\n",
    "        response = \"\"\n",
    "        stream = complete(\"mistral-large2\", prompt, stream = True)\n",
    "        for update in stream:    \n",
    "          response += update\n",
    "          print(update, end = '')\n",
    "        return response\n",
    "\n",
    "    @instrument(\n",
    "        span_type=SpanAttributes.SpanType.RECORD_ROOT, \n",
    "        attributes={\n",
    "            SpanAttributes.RECORD_ROOT.INPUT: \"query\",\n",
    "            SpanAttributes.RECORD_ROOT.OUTPUT: \"return\",\n",
    "        })\n",
    "    def query(self, query: str) -> str:\n",
    "        context_str = self.retrieve_context(query)\n",
    "        return self.generate_completion(query, context_str)\n",
    "\n",
    "\n",
    "rag = RAG()"
   ]
  },
  {
   "cell_type": "markdown",
   "id": "ab69ec2d-8eb4-4cc4-a5d7-242c0131f800",
   "metadata": {
    "collapsed": false,
    "name": "cell32",
    "resultHeight": 60
   },
   "source": [
    "## Query the RAG"
   ]
  },
  {
   "cell_type": "code",
   "execution_count": null,
   "id": "ca894ee7-0e45-40e9-91fe-76626a8b02ab",
   "metadata": {
    "codeCollapsed": false,
    "collapsed": false,
    "language": "python",
    "name": "cell30",
    "resultHeight": 111
   },
   "outputs": [],
   "source": [
    "response = rag.query(\"What were the strongest components to gdp growth in q4?\")"
   ]
  },
  {
   "cell_type": "markdown",
   "id": "3307e02e-0a1f-4800-bb28-74e5910c6e31",
   "metadata": {
    "collapsed": false,
    "name": "cell23"
   },
   "source": [
    "## Register the App"
   ]
  },
  {
   "cell_type": "code",
   "execution_count": null,
   "id": "5226476e-e829-4967-ad26-0cc303a59dcb",
   "metadata": {
    "codeCollapsed": false,
    "collapsed": false,
    "language": "python",
    "name": "cell24",
    "resultHeight": 0
   },
   "outputs": [],
   "source": [
    "from trulens.apps.app import TruApp\n",
    "from trulens.connectors.snowflake import SnowflakeConnector\n",
    "\n",
    "tru_snowflake_connector = SnowflakeConnector(snowpark_session=session)\n",
    "\n",
    "\n",
    "tru_rag = TruApp(\n",
    "        rag,\n",
    "        app_name=\"FOMC_RAG\",\n",
    "        app_version=\"SIMPLE\",\n",
    "        connector=tru_snowflake_connector\n",
    "    )"
   ]
  },
  {
   "cell_type": "markdown",
   "id": "f305a31f",
   "metadata": {},
   "source": [
    "## Load (or create) test set"
   ]
  },
  {
   "cell_type": "code",
   "execution_count": null,
   "id": "35d6cd9c",
   "metadata": {
    "vscode": {
     "languageId": "javascript"
    }
   },
   "outputs": [],
   "source": [
    "import pandas as pd\n",
    "\n",
    "experiment1_data = {\n",
    "    'query': [\n",
    "        \"What were the key points discussed in the FOMC meeting in January 2023?\",\n",
    "        \"How did the FOMC view the economic outlook in mid-2023?\",\n",
    "        \"What were the inflation expectations for the end of 2023?\",\n",
    "        \"What were the main topics in the FOMC meeting in February 2024?\",\n",
    "        \"How did the FOMC assess the labor market in mid-2024?\",\n",
    "        \"What were the GDP growth projections for the end of 2024?\",\n",
    "        \"What were the primary concerns in the FOMC meeting in January 2025?\",\n",
    "        \"How did the FOMC evaluate the financial stability in the end of 2024?\",\n",
    "        \"What were the interest rate expectations for 2025?\"\n",
    "    ]\n",
    "}\n",
    "\n",
    "experiment1_df = pd.DataFrame(experiment1_data)\n",
    "print(experiment1_df)"
   ]
  },
  {
   "cell_type": "markdown",
   "id": "4b1e94f0",
   "metadata": {},
   "source": [
    "## Configure and add experment run"
   ]
  },
  {
   "cell_type": "code",
   "execution_count": null,
   "id": "6373d774",
   "metadata": {},
   "outputs": [],
   "source": [
    "from trulens.core.run import Run\n",
    "from trulens.core.run import RunConfig\n",
    "\n",
    "run_name = \"experiment_1_run\".upper()\n",
    "\n",
    "run_config = RunConfig(\n",
    "    run_name=run_name,\n",
    "    description=\"questions and expected responses from FOMC documents\",\n",
    "    dataset_name=\"experiment1_data\",\n",
    "    source_type=\"DATAFRAME\",\n",
    "    label=\"label\",\n",
    "    dataset_spec={\n",
    "        \"input\": \"query\",\n",
    "        \"ground_truth_output\": \"expected_response\",\n",
    "    },\n",
    ")\n",
    "\n",
    "run: Run = tru_rag.add_run(run_config=run_config)"
   ]
  },
  {
   "cell_type": "markdown",
   "id": "3f8b0377",
   "metadata": {},
   "source": [
    "## Describe the run"
   ]
  },
  {
   "cell_type": "code",
   "execution_count": null,
   "id": "8b6c9c4e",
   "metadata": {},
   "outputs": [],
   "source": [
    "run.describe()"
   ]
  },
  {
   "cell_type": "markdown",
   "id": "9e62cb38",
   "metadata": {},
   "source": [
    "## Start the run"
   ]
  },
  {
   "cell_type": "code",
   "execution_count": null,
   "id": "5a681c3e",
   "metadata": {},
   "outputs": [],
   "source": [
    "run.start(input_df=experiment1_df)"
   ]
  },
  {
   "cell_type": "markdown",
   "id": "8a88cd5e",
   "metadata": {},
   "source": [
    "## Compute metrics on the run"
   ]
  },
  {
   "cell_type": "code",
   "execution_count": null,
   "id": "1b165d0d",
   "metadata": {},
   "outputs": [],
   "source": [
    "run.compute_metrics([\n",
    "    \"coherence\",\n",
    "    \"answer_relevance\",\n",
    "    \"context_relevance\",\n",
    "    \"groundedness\",\n",
    "])"
   ]
  },
  {
   "cell_type": "markdown",
   "id": "b1db8b38-2e1d-4054-9fc5-833da59f7aac",
   "metadata": {
    "collapsed": false,
    "name": "cell20"
   },
   "source": [
    "## Navigate to AI > Applications to view AI Observability\n",
    "\n",
    "You may notice that there is low context relevance and groundedness scores for queries about 2025.\n",
    "\n",
    "This is a common symptom of an out-of-date knowledge base, where the user has asked a question of knowledge that our search service doesn't yet know about.\n",
    "\n",
    "To address this issue, we need to add new knowledge to our RAG via the Cortex Search service."
   ]
  },
  {
   "cell_type": "markdown",
   "id": "394edfd7-b9ac-40ac-a28b-6bbbfbff95bf",
   "metadata": {
    "collapsed": false,
    "name": "cell27"
   },
   "source": [
    "## Automatic Processing of New Documents\n",
    "\n",
    "We can use Snowflake features Streams and Task to automatically process new PDF files as they are added into Snowflake.\n",
    "\n",
    "The tasks and streams will utilize the same parsing and chunking queries we built earlier in the notebook."
   ]
  },
  {
   "cell_type": "code",
   "execution_count": null,
   "id": "50422349-5880-4ab7-a9b6-2f358b32de7b",
   "metadata": {
    "codeCollapsed": false,
    "collapsed": false,
    "language": "sql",
    "name": "cell37"
   },
   "outputs": [],
   "source": [
    "CREATE OR REPLACE STREAM cortex_search_tutorial_db.public.fomc_docs_stream\n",
    "ON STAGE cortex_search_tutorial_db.public.fomc;"
   ]
  },
  {
   "cell_type": "code",
   "execution_count": null,
   "id": "5d7ab63f",
   "metadata": {},
   "outputs": [],
   "source": [
    "CREATE OR REPLACE STREAM cortex_search_tutorial_db.public.fomc_docs_stream\n",
    "ON STAGE cortex_search_tutorial_db.public.fomc;\n",
    "\n",
    "CREATE OR REPLACE TASK cortex_search_tutorial_db.public.fomc_parse_task\n",
    "    WAREHOUSE = cortex_search_tutorial_wh\n",
    "    SCHEDULE = '1 MINUTE'\n",
    "    WHEN SYSTEM$STREAM_HAS_DATA('cortex_search_tutorial_db.public.fomc_docs_stream')\n",
    "AS\n",
    "INSERT INTO CORTEX_SEARCH_TUTORIAL_DB.PUBLIC.PARSED_FOMC_CONTENT(RELATIVE_PATH, PARSED_TEXT)\n",
    "SELECT\n",
    "      relative_path,\n",
    "      TO_VARCHAR(\n",
    "        SNOWFLAKE.CORTEX.PARSE_DOCUMENT(\n",
    "          @cortex_search_tutorial_db.public.fomc, \n",
    "          relative_path, \n",
    "          {'mode': 'LAYOUT'}\n",
    "        ) :content\n",
    "      ) AS parsed_text\n",
    "    FROM directory(@cortex_search_tutorial_db.public.fomc)\n",
    "    WHERE relative_path LIKE '%.pdf'"
   ]
  },
  {
   "cell_type": "code",
   "execution_count": null,
   "id": "9ceea4ff",
   "metadata": {},
   "outputs": [],
   "source": [
    "CREATE OR REPLACE STREAM cortex_search_tutorial_db.public.parsed_fomc_stream\n",
    "ON TABLE cortex_search_tutorial_db.public.parsed_fomc_content;"
   ]
  },
  {
   "cell_type": "code",
   "execution_count": null,
   "id": "b189bab4",
   "metadata": {},
   "outputs": [],
   "source": [
    "CREATE OR REPLACE TASK cortex_search_tutorial_db.public.fomc_chunk_task\n",
    "    WAREHOUSE = cortex_search_tutorial_wh\n",
    "    SCHEDULE = '1 MINUTE'\n",
    "    WHEN SYSTEM$STREAM_HAS_DATA('cortex_search_tutorial_db.public.parsed_fomc_stream')\n",
    "AS\n",
    "INSERT INTO CORTEX_SEARCH_TUTORIAL_DB.PUBLIC.CHUNKED_FOMC_CONTENT(FILE_NAME, CHUNK)\n",
    "SELECT\n",
    "    s.RELATIVE_PATH AS FILE_NAME,\n",
    "    chunk.VALUE AS CHUNK\n",
    "FROM cortex_search_tutorial_db.public.parsed_fomc_stream AS s,\n",
    "     LATERAL FLATTEN(\n",
    "       INPUT => SNOWFLAKE.CORTEX.SPLIT_TEXT_RECURSIVE_CHARACTER (\n",
    "                  s.PARSED_TEXT,\n",
    "                  'markdown',\n",
    "                  1800,\n",
    "                  250\n",
    "                )\n",
    "     ) chunk;"
   ]
  },
  {
   "cell_type": "code",
   "execution_count": null,
   "id": "4439ec35-1231-4f6e-bf59-6662916513f7",
   "metadata": {
    "codeCollapsed": false,
    "collapsed": false,
    "language": "sql",
    "name": "cell26"
   },
   "outputs": [],
   "source": [
    "alter task cortex_search_tutorial_db.public.fomc_parse_task resume;\n",
    "alter task cortex_search_tutorial_db.public.fomc_chunk_task resume;"
   ]
  },
  {
   "cell_type": "markdown",
   "id": "4e73a0cc",
   "metadata": {},
   "source": [
    "## Create a new experiment run to test"
   ]
  },
  {
   "cell_type": "code",
   "execution_count": null,
   "id": "c6604ae3-a6ed-483a-9e95-5215c49e19ce",
   "metadata": {
    "collapsed": false,
    "language": "python",
    "name": "cell42"
   },
   "outputs": [],
   "source": [
    "from trulens.core.run import Run\n",
    "from trulens.core.run import RunConfig\n",
    "\n",
    "run_name = \"experiment_2_run_fresh_data\".upper()\n",
    "\n",
    "run_config = RunConfig(\n",
    "    run_name=run_name,\n",
    "    description=\"questions and expected responses from FOMC documents against updated search service\",\n",
    "    dataset_name=\"experiment1_data\",\n",
    "    source_type=\"DATAFRAME\",\n",
    "    label=\"label\",\n",
    "    dataset_spec={\n",
    "        \"input\": \"query\",\n",
    "        \"ground_truth_output\": \"expected_response\",\n",
    "    },\n",
    ")\n",
    "\n",
    "run: Run = tru_rag.add_run(run_config=run_config)"
   ]
  },
  {
   "cell_type": "markdown",
   "id": "04fd9571",
   "metadata": {},
   "source": [
    "## Add the run and compute metrics"
   ]
  },
  {
   "cell_type": "code",
   "execution_count": null,
   "id": "58b7f210",
   "metadata": {},
   "outputs": [],
   "source": [
    "run.start(input_df=experiment1_df)"
   ]
  },
  {
   "cell_type": "code",
   "execution_count": null,
   "id": "44003827",
   "metadata": {},
   "outputs": [],
   "source": [
    "run.compute_metrics([\n",
    "    \"coherence\",\n",
    "    \"answer_relevance\",\n",
    "    \"context_relevance\",\n",
    "    \"groundedness\",\n",
    "])"
   ]
  },
  {
   "cell_type": "markdown",
   "id": "0e6f0bb6",
   "metadata": {},
   "source": [
    "## Clean up\n",
    "\n",
    "Suspend the tasks after we're done."
   ]
  },
  {
   "cell_type": "code",
   "execution_count": null,
   "id": "f3c4b6d0-1a6a-43fd-83d2-c2a8b61097f9",
   "metadata": {
    "codeCollapsed": false,
    "collapsed": false,
    "language": "sql",
    "name": "cell22"
   },
   "outputs": [],
   "source": [
    "alter task cortex_search_tutorial_db.public.fomc_parse_task suspend;\n",
    "alter task cortex_search_tutorial_db.public.fomc_chunk_task suspend;"
   ]
  }
 ],
 "metadata": {
  "kernelspec": {
   "display_name": "Streamlit Notebook",
   "name": "streamlit"
  },
  "lastEditStatus": {
   "authorEmail": "josh.reini@snowflake.com",
   "authorId": "6400712903425",
   "authorName": "JREINI",
   "lastEditTime": 1738618407912,
   "notebookId": "fgvirnmwtjwhcnsyxy7i",
   "sessionId": "8d51f2f6-423d-4ffd-bdf4-0dc19990dfce"
  }
 },
 "nbformat": 4,
 "nbformat_minor": 5
}
