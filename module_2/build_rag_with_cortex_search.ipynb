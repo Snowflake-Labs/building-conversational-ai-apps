{
 "cells": [
  {
   "cell_type": "markdown",
   "id": "3a4592fd-4b80-477a-a701-193c6c243b58",
   "metadata": {
    "collapsed": false,
    "name": "cell2",
    "resultHeight": 74
   },
   "source": [
    "# Module 2: Build a RAG with Cortex Search"
   ]
  },
  {
   "cell_type": "markdown",
   "id": "0a1550b9-345a-4b6d-9ee2-0cf064464a53",
   "metadata": {
    "collapsed": false,
    "name": "cell3",
    "resultHeight": 60
   },
   "source": [
    "## Create the database, tables and warehouse"
   ]
  },
  {
   "cell_type": "code",
   "execution_count": null,
   "id": "a3105267-f3f3-457e-ae9f-310469dd5c00",
   "metadata": {
    "collapsed": false,
    "language": "python",
    "name": "cell38",
    "resultHeight": 0
   },
   "outputs": [],
   "source": [
    "from snowflake.snowpark.context import get_active_session\n",
    "session = get_active_session()"
   ]
  },
  {
   "cell_type": "code",
   "execution_count": null,
   "id": "3775908f-ca36-4846-8f38-5adca39217f2",
   "metadata": {
    "codeCollapsed": false,
    "collapsed": false,
    "language": "sql",
    "name": "cell1",
    "resultHeight": 0
   },
   "outputs": [],
   "source": [
    "CREATE DATABASE IF NOT EXISTS cortex_search_tutorial_db;\n",
    "\n",
    "CREATE OR REPLACE WAREHOUSE cortex_search_tutorial_wh WITH\n",
    "     WAREHOUSE_SIZE='X-SMALL'\n",
    "     AUTO_SUSPEND = 120\n",
    "     AUTO_RESUME = TRUE\n",
    "     INITIALLY_SUSPENDED=TRUE;\n",
    "\n",
    " USE WAREHOUSE cortex_search_tutorial_wh;"
   ]
  },
  {
   "cell_type": "markdown",
   "id": "70e9ef02-2494-4b6b-b8ad-735ae46fbd05",
   "metadata": {
    "collapsed": false,
    "name": "cell4",
    "resultHeight": 150
   },
   "source": [
    "Note:\n",
    "\n",
    "The CREATE DATABASE statement creates a database. The database automatically includes a schema named PUBLIC.\n",
    "\n",
    "The CREATE WAREHOUSE statement creates an initially suspended warehouse."
   ]
  },
  {
   "cell_type": "markdown",
   "id": "3caaed33-9e4f-4d6f-bfee-594856707302",
   "metadata": {
    "collapsed": false,
    "name": "cell34",
    "resultHeight": 303
   },
   "source": [
    "## Get PDF data\n",
    "\n",
    "You will use a sample dataset of the Federal Open Market Committee (FOMC) meeting minutes for this example. This is a sample of twelve 10-page documents with meeting notes from FOMC meetings from 2023 and 2024. Download the files directly from your browser by following this link:\n",
    "\n",
    "[FOMC minutes sample](https://drive.google.com/file/d/1C6TdVjy6d-GnasGO6ZrIEVJQRcedDQxG/view)\n",
    "\n",
    "The complete set of FOMC minutes can be found at the [US Federal Reserve’s website](https://www.federalreserve.gov/monetarypolicy/fomccalendars.htm).\n",
    "\n",
    "Note: In a non-classroom setting, you would bring your own data, possibly already in a Snowflake stage."
   ]
  },
  {
   "cell_type": "markdown",
   "id": "d8014de4-0579-4afc-b9be-2dbd623d3d44",
   "metadata": {
    "collapsed": false,
    "name": "cell5",
    "resultHeight": 60
   },
   "source": [
    "## Load data into Snowflake stage"
   ]
  },
  {
   "cell_type": "code",
   "execution_count": null,
   "id": "f0e8d596-146e-4a6f-8a7b-4187b05e39db",
   "metadata": {
    "codeCollapsed": false,
    "collapsed": false,
    "language": "sql",
    "name": "cell6",
    "resultHeight": 0
   },
   "outputs": [],
   "source": [
    "CREATE OR REPLACE STAGE cortex_search_tutorial_db.public.fomc\n",
    "    DIRECTORY = (ENABLE = TRUE)\n",
    "    ENCRYPTION = (TYPE = 'SNOWFLAKE_SSE');"
   ]
  },
  {
   "cell_type": "markdown",
   "id": "ebb1b9d5-d330-43df-ace2-7f9f8883a085",
   "metadata": {
    "collapsed": false,
    "name": "cell7",
    "resultHeight": 374
   },
   "source": [
    "Now upload the dataset. You can upload the dataset in Snowsight or using SQL. To upload in Snowsight:\n",
    "\n",
    "1. Sign in to Snowsight.\n",
    "\n",
    "2. Select Data in the left-side navigation menu.\n",
    "\n",
    "3. Select your database cortex_search_tutorial_db.\n",
    "\n",
    "4. Select your schema public.\n",
    "\n",
    "5. Select Stages and select fomc.\n",
    "\n",
    "6. On the top right, Select the + Files button.\n",
    "\n",
    "7. Drag and drop files into the UI or select Browse to choose a file from the dialog window.\n",
    "\n",
    "8. Select Upload to upload your file."
   ]
  },
  {
   "cell_type": "markdown",
   "id": "1840b0d9-89a3-472f-aee5-92ae1717e231",
   "metadata": {
    "collapsed": false,
    "name": "cell8",
    "resultHeight": 60
   },
   "source": [
    "## Verify the PDF Files are uploaded to stage"
   ]
  },
  {
   "cell_type": "code",
   "execution_count": null,
   "id": "a7f0aeb5-1683-47e0-a5a1-f253a0ee69e6",
   "metadata": {
    "collapsed": false,
    "language": "sql",
    "name": "cell36"
   },
   "outputs": [],
   "source": [
    "ls @cortex_search_tutorial_db.public.fomc"
   ]
  },
  {
   "cell_type": "markdown",
   "id": "81011f41-48b1-4c38-8ed6-a5ee1f5d8289",
   "metadata": {
    "collapsed": false,
    "name": "cell11",
    "resultHeight": 60
   },
   "source": [
    "## Parse PDF Files"
   ]
  },
  {
   "cell_type": "code",
   "execution_count": null,
   "id": "d7d08d4e-c732-48e9-b526-e3bc848f10d9",
   "metadata": {
    "codeCollapsed": false,
    "collapsed": false,
    "language": "sql",
    "name": "cell10"
   },
   "outputs": [],
   "source": [
    "CREATE OR REPLACE TABLE CORTEX_SEARCH_TUTORIAL_DB.PUBLIC.PARSED_FOMC_CONTENT AS SELECT \n",
    "      relative_path,\n",
    "      TO_VARCHAR(\n",
    "        SNOWFLAKE.CORTEX.PARSE_DOCUMENT(\n",
    "          @cortex_search_tutorial_db.public.fomc, \n",
    "          relative_path, \n",
    "          {'mode': 'LAYOUT'}\n",
    "        ) :content\n",
    "      ) AS parsed_text\n",
    "    FROM directory(@cortex_search_tutorial_db.public.fomc)\n",
    "    WHERE relative_path LIKE '%.pdf'"
   ]
  },
  {
   "cell_type": "code",
   "execution_count": null,
   "id": "5748401d-8846-408f-b35c-c9cdb58bcd1b",
   "metadata": {
    "language": "sql",
    "name": "cell12"
   },
   "outputs": [],
   "source": [
    "SELECT * FROM CORTEX_SEARCH_TUTORIAL_DB.PUBLIC.PARSED_FOMC_CONTENT LIMIT 2"
   ]
  },
  {
   "cell_type": "markdown",
   "id": "2432741a-f082-4085-a15a-a67ebb6f0c05",
   "metadata": {
    "collapsed": false,
    "name": "cell13",
    "resultHeight": 102
   },
   "source": [
    "## Chunk text"
   ]
  },
  {
   "cell_type": "code",
   "execution_count": null,
   "id": "63fca862-936f-489c-be8b-3e71410914d2",
   "metadata": {
    "codeCollapsed": false,
    "collapsed": false,
    "language": "sql",
    "name": "cell15"
   },
   "outputs": [],
   "source": [
    "CREATE OR REPLACE TABLE CORTEX_SEARCH_TUTORIAL_DB.PUBLIC.CHUNKED_FOMC_CONTENT (\n",
    "    file_name VARCHAR,\n",
    "    CHUNK VARCHAR\n",
    ");\n",
    "\n",
    "INSERT INTO CORTEX_SEARCH_TUTORIAL_DB.PUBLIC.CHUNKED_FOMC_CONTENT (file_name, CHUNK)\n",
    "SELECT\n",
    "    relative_path,\n",
    "    c.value AS CHUNK\n",
    "FROM\n",
    "    CORTEX_SEARCH_TUTORIAL_DB.PUBLIC.PARSED_FOMC_CONTENT,\n",
    "    LATERAL FLATTEN( input => SNOWFLAKE.CORTEX.SPLIT_TEXT_RECURSIVE_CHARACTER (\n",
    "        parsed_text,\n",
    "        'markdown',\n",
    "        1800,\n",
    "        250\n",
    "    )) c;"
   ]
  },
  {
   "cell_type": "code",
   "execution_count": null,
   "id": "175499b5-7c4a-4fa0-9182-ceeeb2ec5e2a",
   "metadata": {
    "codeCollapsed": false,
    "collapsed": false,
    "language": "sql",
    "name": "cell18",
    "resultHeight": 0
   },
   "outputs": [],
   "source": [
    "SELECT * FROM CORTEX_SEARCH_TUTORIAL_DB.PUBLIC.CHUNKED_FOMC_CONTENT LIMIT 10"
   ]
  },
  {
   "cell_type": "markdown",
   "id": "2ecbdbcd-6a4a-49ae-920f-f60524a2354f",
   "metadata": {
    "collapsed": false,
    "name": "cell14",
    "resultHeight": 60
   },
   "source": [
    "## Create Search Service"
   ]
  },
  {
   "cell_type": "code",
   "execution_count": null,
   "id": "b16b88ac-7fa2-408e-b7b4-44c2fe1539d1",
   "metadata": {
    "collapsed": false,
    "language": "sql",
    "name": "cell16",
    "resultHeight": 0
   },
   "outputs": [],
   "source": [
    "CREATE OR REPLACE CORTEX SEARCH SERVICE CORTEX_SEARCH_TUTORIAL_DB.PUBLIC.FOMC_SEARCH_SERVICE\n",
    "    ON chunk\n",
    "    WAREHOUSE = cortex_search_tutorial_wh\n",
    "    TARGET_LAG = '1 minute'\n",
    "    EMBEDDING_MODEL = 'snowflake-arctic-embed-l-v2.0'\n",
    "    AS (\n",
    "    SELECT\n",
    "        file_name,\n",
    "        chunk\n",
    "    FROM CORTEX_SEARCH_TUTORIAL_DB.PUBLIC.CHUNKED_FOMC_CONTENT\n",
    "    );"
   ]
  },
  {
   "cell_type": "markdown",
   "id": "25cc75d5-dd7f-4779-98a7-cc3013891ee8",
   "metadata": {
    "collapsed": false,
    "name": "cell31",
    "resultHeight": 60
   },
   "source": [
    "## Use the Search Service"
   ]
  },
  {
   "cell_type": "code",
   "execution_count": null,
   "id": "b999eb72-2f6c-4e56-908b-048bb2110540",
   "metadata": {
    "codeCollapsed": false,
    "collapsed": false,
    "language": "python",
    "name": "cell17",
    "resultHeight": 0
   },
   "outputs": [],
   "source": [
    "import os\n",
    "from snowflake.core import Root\n",
    "from typing import List\n",
    "from snowflake.snowpark.session import Session\n",
    "\n",
    "class CortexSearchRetriever:\n",
    "\n",
    "    def __init__(self, snowpark_session: Session, limit_to_retrieve: int = 4):\n",
    "        self._snowpark_session = snowpark_session\n",
    "        self._limit_to_retrieve = limit_to_retrieve\n",
    "\n",
    "    def retrieve(self, query: str) -> List[str]:\n",
    "        root = Root(session)\n",
    "\n",
    "        search_service = (root\n",
    "          .databases[\"CORTEX_SEARCH_TUTORIAL_DB\"]\n",
    "          .schemas[\"PUBLIC\"]\n",
    "          .cortex_search_services[\"FOMC_SEARCH_SERVICE\"]\n",
    "        )\n",
    "        resp = search_service.search(\n",
    "          query=query,\n",
    "          columns=[\"chunk\"],\n",
    "          limit=self._limit_to_retrieve\n",
    "        )\n",
    "\n",
    "        if resp.results:\n",
    "            return [curr[\"chunk\"] for curr in resp.results]\n",
    "        else:\n",
    "            return []"
   ]
  },
  {
   "cell_type": "code",
   "execution_count": null,
   "id": "ca2eb526-bba7-4226-a7c7-6534a489fd1d",
   "metadata": {
    "codeCollapsed": false,
    "collapsed": false,
    "language": "python",
    "name": "cell21",
    "resultHeight": 1534
   },
   "outputs": [],
   "source": [
    "retriever = CortexSearchRetriever(snowpark_session=session, limit_to_retrieve=1)\n",
    "\n",
    "retrieved_context = retriever.retrieve(query=\"how was inflation expected to evolve in 2024?\")\n",
    "\n",
    "retrieved_context"
   ]
  },
  {
   "cell_type": "markdown",
   "id": "58af19e4-9984-4cf6-94a4-7bd2496a0996",
   "metadata": {
    "collapsed": false,
    "name": "cell28",
    "resultHeight": 262
   },
   "source": [
    "## Create a RAG\n",
    "\n",
    "Now that we have setup Cortex Search to be our retriever, we can add Cortex Complete for generation to build our RAG.\n",
    "\n",
    "We'll also add TruLens instrumentation with the @instrument decorator to our app.\n",
    "\n",
    "The first thing we need to do however, is to set the database connection to Snowflake where we'll log the traces and evaluation results from our application. This way we have a stored record that we can use to understand the app's performance."
   ]
  },
  {
   "cell_type": "code",
   "execution_count": null,
   "id": "3485c37b-377e-45b3-9fb1-d9220851d4cf",
   "metadata": {
    "codeCollapsed": false,
    "collapsed": false,
    "language": "python",
    "name": "cell19",
    "resultHeight": 232
   },
   "outputs": [],
   "source": [
    "from trulens.core import TruSession\n",
    "from trulens.connectors.snowflake import SnowflakeConnector\n",
    "\n",
    "tru_snowflake_connector = SnowflakeConnector(snowpark_session=session, init_server_side=True)\n",
    "\n",
    "tru_session = TruSession(connector=tru_snowflake_connector)"
   ]
  },
  {
   "cell_type": "code",
   "execution_count": null,
   "id": "f6e31278-11c1-49e2-88a6-04eb58da532d",
   "metadata": {
    "codeCollapsed": false,
    "collapsed": false,
    "language": "python",
    "name": "cell9",
    "resultHeight": 0
   },
   "outputs": [],
   "source": [
    "from snowflake.cortex import Complete\n",
    "from trulens.apps.custom import instrument\n",
    "class RAG:\n",
    "\n",
    "    def __init__(self):\n",
    "        self.retriever = CortexSearchRetriever(snowpark_session=session, limit_to_retrieve=4)\n",
    "\n",
    "    @instrument\n",
    "    def retrieve_context(self, query: str) -> list:\n",
    "        \"\"\"\n",
    "        Retrieve relevant text from vector store.\n",
    "        \"\"\"\n",
    "        return self.retriever.retrieve(query)\n",
    "\n",
    "    @instrument\n",
    "    def generate_completion(self, query: str, context_str: list) -> str:\n",
    "        \"\"\"\n",
    "        Generate answer from context.\n",
    "        \"\"\"\n",
    "        prompt = f\"\"\"\n",
    "          You are an expert assistant extracting information from context provided.\n",
    "          Answer the question in long-form, fully and completely, based on the context. Do not hallucinate.\n",
    "          If you don´t have the information just say so.\n",
    "          Context: {context_str}\n",
    "          Question:\n",
    "          {query}\n",
    "          Answer:\n",
    "        \"\"\"\n",
    "        response = \"\"\n",
    "        stream = Complete(\"mistral-large2\", prompt, stream = True)\n",
    "        for update in stream:    \n",
    "          response += update\n",
    "          print(update, end = '')\n",
    "        return response\n",
    "        \n",
    "    def query(self, query: str) -> str:\n",
    "        context_str = self.retrieve_context(query)\n",
    "        return self.generate_completion(query, context_str)\n",
    "\n",
    "\n",
    "rag = RAG()"
   ]
  },
  {
   "cell_type": "markdown",
   "id": "ab69ec2d-8eb4-4cc4-a5d7-242c0131f800",
   "metadata": {
    "collapsed": false,
    "name": "cell32",
    "resultHeight": 60
   },
   "source": [
    "## Query the RAG"
   ]
  },
  {
   "cell_type": "code",
   "execution_count": null,
   "id": "ca894ee7-0e45-40e9-91fe-76626a8b02ab",
   "metadata": {
    "codeCollapsed": false,
    "collapsed": false,
    "language": "python",
    "name": "cell30",
    "resultHeight": 111
   },
   "outputs": [],
   "source": [
    "response = rag.query(\"What were the strongest components to gdp growth in q4?\")"
   ]
  },
  {
   "cell_type": "markdown",
   "id": "58ff9ba6-eb2b-4343-ab9b-0f13cc8ef34a",
   "metadata": {
    "collapsed": false,
    "name": "cell33",
    "resultHeight": 60
   },
   "source": [
    "## Create Evaluations"
   ]
  },
  {
   "cell_type": "code",
   "execution_count": null,
   "id": "7ff8b56f-815c-497f-ac8b-1180acf28dab",
   "metadata": {
    "codeCollapsed": false,
    "collapsed": false,
    "language": "python",
    "name": "cell29",
    "resultHeight": 155
   },
   "outputs": [],
   "source": [
    "from trulens.providers.cortex.provider import Cortex\n",
    "from trulens.core.feedback.feedback import SnowflakeFeedback\n",
    "from trulens.core import Select\n",
    "import numpy as np\n",
    "\n",
    "provider = Cortex(session, \"mistral-large2\")\n",
    "\n",
    "f_groundedness = (\n",
    "    SnowflakeFeedback(provider.groundedness_measure_with_cot_reasons, name=\"Groundedness\")\n",
    "    .on(Select.RecordCalls.retrieve_context.rets[:].collect())\n",
    "    .on_output()\n",
    ")\n",
    "\n",
    "f_context_relevance = (\n",
    "    SnowflakeFeedback(provider.context_relevance, name=\"Context Relevance\")\n",
    "    .on_input()\n",
    "    .on(Select.RecordCalls.retrieve_context.rets[:])\n",
    "    .aggregate(np.mean)\n",
    ")\n",
    "\n",
    "f_answer_relevance = (\n",
    "    SnowflakeFeedback(provider.relevance, name=\"Answer Relevance\")\n",
    "    .on_input()\n",
    "    .on_output()\n",
    "    .aggregate(np.mean)\n",
    ")"
   ]
  },
  {
   "cell_type": "markdown",
   "id": "3307e02e-0a1f-4800-bb28-74e5910c6e31",
   "metadata": {
    "collapsed": false,
    "name": "cell23"
   },
   "source": [
    "## Register the App"
   ]
  },
  {
   "cell_type": "code",
   "execution_count": null,
   "id": "5226476e-e829-4967-ad26-0cc303a59dcb",
   "metadata": {
    "codeCollapsed": false,
    "collapsed": false,
    "language": "python",
    "name": "cell24",
    "resultHeight": 0
   },
   "outputs": [],
   "source": [
    "from trulens.apps.custom import TruCustomApp\n",
    "from trulens.core.schema.app import RecordIngestMode\n",
    "\n",
    "tru_rag = TruCustomApp(\n",
    "    rag,\n",
    "    app_name=\"FOMC RAG\",\n",
    "    app_version=\"simple\",\n",
    "    feedbacks=[f_groundedness, f_answer_relevance, f_context_relevance],\n",
    "    record_ingest_mode=RecordIngestMode.BUFFERED,\n",
    ")"
   ]
  },
  {
   "cell_type": "markdown",
   "id": "3684d070-4f1f-4ea9-9746-d4ac8c6b579c",
   "metadata": {
    "collapsed": false,
    "name": "cell25"
   },
   "source": [
    "## Run the App with AI Observability"
   ]
  },
  {
   "cell_type": "code",
   "execution_count": null,
   "id": "f6eb7c27-d8a8-4410-89e3-e156345b5950",
   "metadata": {
    "codeCollapsed": false,
    "collapsed": false,
    "language": "python",
    "name": "cell35",
    "resultHeight": 38
   },
   "outputs": [],
   "source": [
    "with tru_rag as recording:\n",
    "    response = rag.query(\"how was inflation expected to evolve in 2024?\")\n",
    "    print(response)"
   ]
  },
  {
   "cell_type": "code",
   "execution_count": null,
   "id": "55ac3178-f945-4f91-9d6c-18efa1e8765f",
   "metadata": {
    "language": "python",
    "name": "cell44"
   },
   "outputs": [],
   "source": [
    "with tru_rag as recording:\n",
    "    response = rag.query(\"What is the target range for the federal funds rate as of jan 2025?\")\n",
    "    print(response)"
   ]
  },
  {
   "cell_type": "markdown",
   "id": "b1db8b38-2e1d-4054-9fc5-833da59f7aac",
   "metadata": {
    "collapsed": false,
    "name": "cell20"
   },
   "source": [
    "## Navigate to AI > Applications to view AI Observability\n",
    "\n",
    "You may notice that there is low context relevance and groundedness scores for the second query regarding the federal funds rate.\n",
    "\n",
    "This is a common symptom of an out-of-date knowledge base, where the user has asked a question of knowledge that our search service doesn't yet know about."
   ]
  },
  {
   "cell_type": "markdown",
   "id": "394edfd7-b9ac-40ac-a28b-6bbbfbff95bf",
   "metadata": {
    "collapsed": false,
    "name": "cell27"
   },
   "source": [
    "## Automatic Processing of New Documents\n",
    "\n",
    "We can use Snowflake features Streams and Task to automatically process new PDF files as they are added into Snowflake.\n",
    "\n",
    "The tasks and streams will utilize the same parsing and chunking queries we built earlier in the notebook."
   ]
  },
  {
   "cell_type": "code",
   "execution_count": null,
   "id": "50422349-5880-4ab7-a9b6-2f358b32de7b",
   "metadata": {
    "codeCollapsed": false,
    "collapsed": false,
    "language": "sql",
    "name": "cell37"
   },
   "outputs": [],
   "source": [
    "CREATE OR REPLACE STREAM cortex_search_tutorial_db.public.fomc_docs_stream\n",
    "ON STAGE cortex_search_tutorial_db.public.fomc;"
   ]
  },
  {
   "cell_type": "code",
   "execution_count": null,
   "id": "5d7ab63f",
   "metadata": {},
   "outputs": [],
   "source": [
    "CREATE OR REPLACE STREAM cortex_search_tutorial_db.public.fomc_docs_stream\n",
    "ON STAGE cortex_search_tutorial_db.public.fomc;\n",
    "\n",
    "CREATE OR REPLACE TASK cortex_search_tutorial_db.public.fomc_parse_task\n",
    "    WAREHOUSE = cortex_search_tutorial_wh\n",
    "    SCHEDULE = '1 MINUTE'\n",
    "    WHEN SYSTEM$STREAM_HAS_DATA('cortex_search_tutorial_db.public.fomc_docs_stream')\n",
    "AS\n",
    "INSERT INTO CORTEX_SEARCH_TUTORIAL_DB.PUBLIC.PARSED_FOMC_CONTENT(RELATIVE_PATH, PARSED_TEXT)\n",
    "SELECT\n",
    "      relative_path,\n",
    "      TO_VARCHAR(\n",
    "        SNOWFLAKE.CORTEX.PARSE_DOCUMENT(\n",
    "          @cortex_search_tutorial_db.public.fomc, \n",
    "          relative_path, \n",
    "          {'mode': 'LAYOUT'}\n",
    "        ) :content\n",
    "      ) AS parsed_text\n",
    "    FROM directory(@cortex_search_tutorial_db.public.fomc)\n",
    "    WHERE relative_path LIKE '%.pdf'"
   ]
  },
  {
   "cell_type": "code",
   "execution_count": null,
   "id": "9ceea4ff",
   "metadata": {},
   "outputs": [],
   "source": [
    "CREATE OR REPLACE STREAM cortex_search_tutorial_db.public.parsed_fomc_stream\n",
    "ON TABLE cortex_search_tutorial_db.public.parsed_fomc_content;"
   ]
  },
  {
   "cell_type": "code",
   "execution_count": null,
   "id": "b189bab4",
   "metadata": {},
   "outputs": [],
   "source": [
    "CREATE OR REPLACE TASK cortex_search_tutorial_db.public.fomc_chunk_task\n",
    "    WAREHOUSE = cortex_search_tutorial_wh\n",
    "    SCHEDULE = '1 MINUTE'\n",
    "    WHEN SYSTEM$STREAM_HAS_DATA('cortex_search_tutorial_db.public.parsed_fomc_stream')\n",
    "AS\n",
    "INSERT INTO CORTEX_SEARCH_TUTORIAL_DB.PUBLIC.CHUNKED_FOMC_CONTENT(FILE_NAME, CHUNK)\n",
    "SELECT\n",
    "    s.RELATIVE_PATH AS FILE_NAME,\n",
    "    chunk.VALUE AS CHUNK\n",
    "FROM cortex_search_tutorial_db.public.parsed_fomc_stream AS s,\n",
    "     LATERAL FLATTEN(\n",
    "       INPUT => SNOWFLAKE.CORTEX.SPLIT_TEXT_RECURSIVE_CHARACTER (\n",
    "                  s.PARSED_TEXT,\n",
    "                  'markdown',\n",
    "                  1800,\n",
    "                  250\n",
    "                )\n",
    "     ) chunk;"
   ]
  },
  {
   "cell_type": "code",
   "execution_count": null,
   "id": "4439ec35-1231-4f6e-bf59-6662916513f7",
   "metadata": {
    "codeCollapsed": false,
    "collapsed": false,
    "language": "sql",
    "name": "cell26"
   },
   "outputs": [],
   "source": [
    "alter task cortex_search_tutorial_db.public.fomc_parse_task resume;\n",
    "alter task cortex_search_tutorial_db.public.fomc_chunk_task resume;"
   ]
  },
  {
   "cell_type": "markdown",
   "id": "d968305c-365b-466b-ae9c-2eabb6e1572d",
   "metadata": {
    "collapsed": false,
    "name": "cell40"
   },
   "source": [
    "Now, go upload a new set of minutes from the FOMC website. If we execute the below query while the stream is processing, we can view it."
   ]
  },
  {
   "cell_type": "code",
   "execution_count": null,
   "id": "4eaba7c7-a8ba-4721-9bea-119d0fa963a2",
   "metadata": {
    "codeCollapsed": false,
    "collapsed": false,
    "language": "sql",
    "name": "cell39"
   },
   "outputs": [],
   "source": [
    "select * from fomc_docs_stream;"
   ]
  },
  {
   "cell_type": "markdown",
   "id": "fd1e711b-bfd5-487c-97f5-312be7110ff7",
   "metadata": {
    "collapsed": false,
    "name": "cell41"
   },
   "source": [
    "It will return no value once the doc has been processed. Once the document is avilable in the docs_chunks_table, the Snowflake Cortex Search service will automaticaly index it according to the TARGET_LAG that was specified when the serrvice was created.\n",
    "\n",
    "Once you have finish testing uploading new documents and asking questions, you may want to suspend the task:"
   ]
  },
  {
   "cell_type": "code",
   "execution_count": null,
   "id": "c6604ae3-a6ed-483a-9e95-5215c49e19ce",
   "metadata": {
    "collapsed": false,
    "language": "python",
    "name": "cell42"
   },
   "outputs": [],
   "source": [
    "with tru_rag as recording:\n",
    "    response = rag.query(\"What is the target range for the federal funds rate as of jan 2025?\")\n",
    "    print(response)"
   ]
  },
  {
   "cell_type": "code",
   "execution_count": null,
   "id": "f3c4b6d0-1a6a-43fd-83d2-c2a8b61097f9",
   "metadata": {
    "codeCollapsed": false,
    "collapsed": false,
    "language": "sql",
    "name": "cell22"
   },
   "outputs": [],
   "source": [
    "alter task cortex_search_tutorial_db.public.fomc_parse_task suspend;\n",
    "alter task cortex_search_tutorial_db.public.fomc_chunk_task suspend;"
   ]
  }
 ],
 "metadata": {
  "kernelspec": {
   "display_name": "Streamlit Notebook",
   "name": "streamlit"
  },
  "lastEditStatus": {
   "authorEmail": "josh.reini@snowflake.com",
   "authorId": "6400712903425",
   "authorName": "JREINI",
   "lastEditTime": 1738618407912,
   "notebookId": "fgvirnmwtjwhcnsyxy7i",
   "sessionId": "8d51f2f6-423d-4ffd-bdf4-0dc19990dfce"
  }
 },
 "nbformat": 4,
 "nbformat_minor": 5
}
